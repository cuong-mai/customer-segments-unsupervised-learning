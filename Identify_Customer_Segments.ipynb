{
 "cells": [
  {
   "cell_type": "markdown",
   "metadata": {},
   "source": [
    "# Project: Identify Customer Segments\n",
    "\n",
    "In this project, you will apply unsupervised learning techniques to identify segments of the population that form the core customer base for a mail-order sales company in Germany. These segments can then be used to direct marketing campaigns towards audiences that will have the highest expected rate of returns. The data that you will use has been provided by our partners at Bertelsmann Arvato Analytics, and represents a real-life data science task.\n",
    "\n",
    "This notebook will help you complete this task by providing a framework within which you will perform your analysis steps. In each step of the project, you will see some text describing the subtask that you will perform, followed by one or more code cells for you to complete your work. **Feel free to add additional code and markdown cells as you go along so that you can explore everything in precise chunks.** The code cells provided in the base template will outline only the major tasks, and will usually not be enough to cover all of the minor tasks that comprise it.\n",
    "\n",
    "It should be noted that while there will be precise guidelines on how you should handle certain tasks in the project, there will also be places where an exact specification is not provided. **There will be times in the project where you will need to make and justify your own decisions on how to treat the data.** These are places where there may not be only one way to handle the data. In real-life tasks, there may be many valid ways to approach an analysis task. One of the most important things you can do is clearly document your approach so that other scientists can understand the decisions you've made.\n",
    "\n",
    "At the end of most sections, there will be a Markdown cell labeled **Discussion**. In these cells, you will report your findings for the completed section, as well as document the decisions that you made in your approach to each subtask. **Your project will be evaluated not just on the code used to complete the tasks outlined, but also your communication about your observations and conclusions at each stage.**"
   ]
  },
  {
   "cell_type": "code",
   "execution_count": 1,
   "metadata": {
    "pycharm": {
     "is_executing": false
    }
   },
   "outputs": [],
   "source": [
    "# import libraries here; add more as necessary\n",
    "import numpy as np\n",
    "import pandas as pd\n",
    "import matplotlib.pyplot as plt\n",
    "import seaborn as sns\n",
    "from sklearn.preprocessing import Imputer\n",
    "from sklearn.preprocessing import StandardScaler\n",
    "from sklearn.decomposition import PCA\n",
    "from sklearn.cluster import KMeans\n",
    "\n",
    "# magic word for producing visualizations in notebook\n",
    "%matplotlib inline"
   ]
  },
  {
   "cell_type": "markdown",
   "metadata": {},
   "source": [
    "### Step 0: Load the Data\n",
    "\n",
    "There are four files associated with this project (not including this one):\n",
    "\n",
    "- `Udacity_AZDIAS_Subset.csv`: Demographics data for the general population of Germany; 891211 persons (rows) x 85 features (columns).\n",
    "- `Udacity_CUSTOMERS_Subset.csv`: Demographics data for customers of a mail-order company; 191652 persons (rows) x 85 features (columns).\n",
    "- `Data_Dictionary.md`: Detailed information file about the features in the provided datasets.\n",
    "- `AZDIAS_Feature_Summary.csv`: Summary of feature attributes for demographics data; 85 features (rows) x 4 columns\n",
    "\n",
    "Each row of the demographics files represents a single person, but also includes information outside of individuals, including information about their household, building, and neighborhood. You will use this information to cluster the general population into groups with similar demographic properties. Then, you will see how the people in the customers dataset fit into those created clusters. The hope here is that certain clusters are over-represented in the customers data, as compared to the general population; those over-represented clusters will be assumed to be part of the core userbase. This information can then be used for further applications, such as targeting for a marketing campaign.\n",
    "\n",
    "To start off with, load in the demographics data for the general population into a pandas DataFrame, and do the same for the feature attributes summary. Note for all of the `.csv` data files in this project: they're semicolon (`;`) delimited, so you'll need an additional argument in your [`read_csv()`](https://pandas.pydata.org/pandas-docs/stable/generated/pandas.read_csv.html) call to read in the data properly. Also, considering the size of the main dataset, it may take some time for it to load completely.\n",
    "\n",
    "Once the dataset is loaded, it's recommended that you take a little bit of time just browsing the general structure of the dataset and feature summary file. You'll be getting deep into the innards of the cleaning in the first major step of the project, so gaining some general familiarity can help you get your bearings."
   ]
  },
  {
   "cell_type": "code",
   "execution_count": 2,
   "metadata": {
    "pycharm": {
     "is_executing": false
    }
   },
   "outputs": [],
   "source": [
    "# Load in the general demographics data.\n",
    "azdias = pd.read_csv('Udacity_AZDIAS_Subset.csv', sep=';')\n",
    "\n",
    "# Load in the feature summary file.\n",
    "feat_info = pd.read_csv('AZDIAS_Feature_Summary.csv', sep=';') "
   ]
  },
  {
   "cell_type": "code",
   "execution_count": 3,
   "metadata": {
    "pycharm": {
     "is_executing": false
    }
   },
   "outputs": [],
   "source": [
    "# Check the structure of the data after it's loaded (e.g. print the number of\n",
    "# rows and columns, print the first few rows)."
   ]
  },
  {
   "cell_type": "code",
   "execution_count": 4,
   "metadata": {
    "pycharm": {
     "is_executing": false,
     "name": "#%%\n"
    }
   },
   "outputs": [
    {
     "name": "stdout",
     "output_type": "stream",
     "text": [
      "(891221, 85)\n"
     ]
    },
    {
     "data": {
      "text/html": [
       "<div>\n",
       "<style scoped>\n",
       "    .dataframe tbody tr th:only-of-type {\n",
       "        vertical-align: middle;\n",
       "    }\n",
       "\n",
       "    .dataframe tbody tr th {\n",
       "        vertical-align: top;\n",
       "    }\n",
       "\n",
       "    .dataframe thead th {\n",
       "        text-align: right;\n",
       "    }\n",
       "</style>\n",
       "<table border=\"1\" class=\"dataframe\">\n",
       "  <thead>\n",
       "    <tr style=\"text-align: right;\">\n",
       "      <th></th>\n",
       "      <th>AGER_TYP</th>\n",
       "      <th>ALTERSKATEGORIE_GROB</th>\n",
       "      <th>ANREDE_KZ</th>\n",
       "      <th>CJT_GESAMTTYP</th>\n",
       "      <th>FINANZ_MINIMALIST</th>\n",
       "      <th>FINANZ_SPARER</th>\n",
       "      <th>FINANZ_VORSORGER</th>\n",
       "      <th>FINANZ_ANLEGER</th>\n",
       "      <th>FINANZ_UNAUFFAELLIGER</th>\n",
       "      <th>FINANZ_HAUSBAUER</th>\n",
       "      <th>...</th>\n",
       "      <th>PLZ8_ANTG1</th>\n",
       "      <th>PLZ8_ANTG2</th>\n",
       "      <th>PLZ8_ANTG3</th>\n",
       "      <th>PLZ8_ANTG4</th>\n",
       "      <th>PLZ8_BAUMAX</th>\n",
       "      <th>PLZ8_HHZ</th>\n",
       "      <th>PLZ8_GBZ</th>\n",
       "      <th>ARBEIT</th>\n",
       "      <th>ORTSGR_KLS9</th>\n",
       "      <th>RELAT_AB</th>\n",
       "    </tr>\n",
       "  </thead>\n",
       "  <tbody>\n",
       "    <tr>\n",
       "      <th>0</th>\n",
       "      <td>-1</td>\n",
       "      <td>2</td>\n",
       "      <td>1</td>\n",
       "      <td>2.0</td>\n",
       "      <td>3</td>\n",
       "      <td>4</td>\n",
       "      <td>3</td>\n",
       "      <td>5</td>\n",
       "      <td>5</td>\n",
       "      <td>3</td>\n",
       "      <td>...</td>\n",
       "      <td>NaN</td>\n",
       "      <td>NaN</td>\n",
       "      <td>NaN</td>\n",
       "      <td>NaN</td>\n",
       "      <td>NaN</td>\n",
       "      <td>NaN</td>\n",
       "      <td>NaN</td>\n",
       "      <td>NaN</td>\n",
       "      <td>NaN</td>\n",
       "      <td>NaN</td>\n",
       "    </tr>\n",
       "    <tr>\n",
       "      <th>1</th>\n",
       "      <td>-1</td>\n",
       "      <td>1</td>\n",
       "      <td>2</td>\n",
       "      <td>5.0</td>\n",
       "      <td>1</td>\n",
       "      <td>5</td>\n",
       "      <td>2</td>\n",
       "      <td>5</td>\n",
       "      <td>4</td>\n",
       "      <td>5</td>\n",
       "      <td>...</td>\n",
       "      <td>2.0</td>\n",
       "      <td>3.0</td>\n",
       "      <td>2.0</td>\n",
       "      <td>1.0</td>\n",
       "      <td>1.0</td>\n",
       "      <td>5.0</td>\n",
       "      <td>4.0</td>\n",
       "      <td>3.0</td>\n",
       "      <td>5.0</td>\n",
       "      <td>4.0</td>\n",
       "    </tr>\n",
       "    <tr>\n",
       "      <th>2</th>\n",
       "      <td>-1</td>\n",
       "      <td>3</td>\n",
       "      <td>2</td>\n",
       "      <td>3.0</td>\n",
       "      <td>1</td>\n",
       "      <td>4</td>\n",
       "      <td>1</td>\n",
       "      <td>2</td>\n",
       "      <td>3</td>\n",
       "      <td>5</td>\n",
       "      <td>...</td>\n",
       "      <td>3.0</td>\n",
       "      <td>3.0</td>\n",
       "      <td>1.0</td>\n",
       "      <td>0.0</td>\n",
       "      <td>1.0</td>\n",
       "      <td>4.0</td>\n",
       "      <td>4.0</td>\n",
       "      <td>3.0</td>\n",
       "      <td>5.0</td>\n",
       "      <td>2.0</td>\n",
       "    </tr>\n",
       "    <tr>\n",
       "      <th>3</th>\n",
       "      <td>2</td>\n",
       "      <td>4</td>\n",
       "      <td>2</td>\n",
       "      <td>2.0</td>\n",
       "      <td>4</td>\n",
       "      <td>2</td>\n",
       "      <td>5</td>\n",
       "      <td>2</td>\n",
       "      <td>1</td>\n",
       "      <td>2</td>\n",
       "      <td>...</td>\n",
       "      <td>2.0</td>\n",
       "      <td>2.0</td>\n",
       "      <td>2.0</td>\n",
       "      <td>0.0</td>\n",
       "      <td>1.0</td>\n",
       "      <td>3.0</td>\n",
       "      <td>4.0</td>\n",
       "      <td>2.0</td>\n",
       "      <td>3.0</td>\n",
       "      <td>3.0</td>\n",
       "    </tr>\n",
       "    <tr>\n",
       "      <th>4</th>\n",
       "      <td>-1</td>\n",
       "      <td>3</td>\n",
       "      <td>1</td>\n",
       "      <td>5.0</td>\n",
       "      <td>4</td>\n",
       "      <td>3</td>\n",
       "      <td>4</td>\n",
       "      <td>1</td>\n",
       "      <td>3</td>\n",
       "      <td>2</td>\n",
       "      <td>...</td>\n",
       "      <td>2.0</td>\n",
       "      <td>4.0</td>\n",
       "      <td>2.0</td>\n",
       "      <td>1.0</td>\n",
       "      <td>2.0</td>\n",
       "      <td>3.0</td>\n",
       "      <td>3.0</td>\n",
       "      <td>4.0</td>\n",
       "      <td>6.0</td>\n",
       "      <td>5.0</td>\n",
       "    </tr>\n",
       "    <tr>\n",
       "      <th>5</th>\n",
       "      <td>3</td>\n",
       "      <td>1</td>\n",
       "      <td>2</td>\n",
       "      <td>2.0</td>\n",
       "      <td>3</td>\n",
       "      <td>1</td>\n",
       "      <td>5</td>\n",
       "      <td>2</td>\n",
       "      <td>2</td>\n",
       "      <td>5</td>\n",
       "      <td>...</td>\n",
       "      <td>2.0</td>\n",
       "      <td>3.0</td>\n",
       "      <td>1.0</td>\n",
       "      <td>1.0</td>\n",
       "      <td>1.0</td>\n",
       "      <td>5.0</td>\n",
       "      <td>5.0</td>\n",
       "      <td>2.0</td>\n",
       "      <td>3.0</td>\n",
       "      <td>3.0</td>\n",
       "    </tr>\n",
       "    <tr>\n",
       "      <th>6</th>\n",
       "      <td>-1</td>\n",
       "      <td>2</td>\n",
       "      <td>2</td>\n",
       "      <td>5.0</td>\n",
       "      <td>1</td>\n",
       "      <td>5</td>\n",
       "      <td>1</td>\n",
       "      <td>5</td>\n",
       "      <td>4</td>\n",
       "      <td>3</td>\n",
       "      <td>...</td>\n",
       "      <td>3.0</td>\n",
       "      <td>3.0</td>\n",
       "      <td>1.0</td>\n",
       "      <td>0.0</td>\n",
       "      <td>1.0</td>\n",
       "      <td>5.0</td>\n",
       "      <td>5.0</td>\n",
       "      <td>4.0</td>\n",
       "      <td>6.0</td>\n",
       "      <td>3.0</td>\n",
       "    </tr>\n",
       "    <tr>\n",
       "      <th>7</th>\n",
       "      <td>-1</td>\n",
       "      <td>1</td>\n",
       "      <td>1</td>\n",
       "      <td>3.0</td>\n",
       "      <td>3</td>\n",
       "      <td>3</td>\n",
       "      <td>4</td>\n",
       "      <td>1</td>\n",
       "      <td>3</td>\n",
       "      <td>2</td>\n",
       "      <td>...</td>\n",
       "      <td>3.0</td>\n",
       "      <td>3.0</td>\n",
       "      <td>1.0</td>\n",
       "      <td>0.0</td>\n",
       "      <td>1.0</td>\n",
       "      <td>4.0</td>\n",
       "      <td>4.0</td>\n",
       "      <td>2.0</td>\n",
       "      <td>5.0</td>\n",
       "      <td>2.0</td>\n",
       "    </tr>\n",
       "    <tr>\n",
       "      <th>8</th>\n",
       "      <td>-1</td>\n",
       "      <td>3</td>\n",
       "      <td>1</td>\n",
       "      <td>3.0</td>\n",
       "      <td>4</td>\n",
       "      <td>4</td>\n",
       "      <td>2</td>\n",
       "      <td>4</td>\n",
       "      <td>2</td>\n",
       "      <td>2</td>\n",
       "      <td>...</td>\n",
       "      <td>2.0</td>\n",
       "      <td>3.0</td>\n",
       "      <td>2.0</td>\n",
       "      <td>1.0</td>\n",
       "      <td>1.0</td>\n",
       "      <td>3.0</td>\n",
       "      <td>3.0</td>\n",
       "      <td>2.0</td>\n",
       "      <td>4.0</td>\n",
       "      <td>3.0</td>\n",
       "    </tr>\n",
       "    <tr>\n",
       "      <th>9</th>\n",
       "      <td>-1</td>\n",
       "      <td>3</td>\n",
       "      <td>2</td>\n",
       "      <td>4.0</td>\n",
       "      <td>2</td>\n",
       "      <td>4</td>\n",
       "      <td>2</td>\n",
       "      <td>3</td>\n",
       "      <td>5</td>\n",
       "      <td>4</td>\n",
       "      <td>...</td>\n",
       "      <td>2.0</td>\n",
       "      <td>3.0</td>\n",
       "      <td>2.0</td>\n",
       "      <td>1.0</td>\n",
       "      <td>1.0</td>\n",
       "      <td>3.0</td>\n",
       "      <td>3.0</td>\n",
       "      <td>2.0</td>\n",
       "      <td>3.0</td>\n",
       "      <td>1.0</td>\n",
       "    </tr>\n",
       "  </tbody>\n",
       "</table>\n",
       "<p>10 rows × 85 columns</p>\n",
       "</div>"
      ],
      "text/plain": [
       "   AGER_TYP  ALTERSKATEGORIE_GROB  ANREDE_KZ  CJT_GESAMTTYP  \\\n",
       "0        -1                     2          1            2.0   \n",
       "1        -1                     1          2            5.0   \n",
       "2        -1                     3          2            3.0   \n",
       "3         2                     4          2            2.0   \n",
       "4        -1                     3          1            5.0   \n",
       "5         3                     1          2            2.0   \n",
       "6        -1                     2          2            5.0   \n",
       "7        -1                     1          1            3.0   \n",
       "8        -1                     3          1            3.0   \n",
       "9        -1                     3          2            4.0   \n",
       "\n",
       "   FINANZ_MINIMALIST  FINANZ_SPARER  FINANZ_VORSORGER  FINANZ_ANLEGER  \\\n",
       "0                  3              4                 3               5   \n",
       "1                  1              5                 2               5   \n",
       "2                  1              4                 1               2   \n",
       "3                  4              2                 5               2   \n",
       "4                  4              3                 4               1   \n",
       "5                  3              1                 5               2   \n",
       "6                  1              5                 1               5   \n",
       "7                  3              3                 4               1   \n",
       "8                  4              4                 2               4   \n",
       "9                  2              4                 2               3   \n",
       "\n",
       "   FINANZ_UNAUFFAELLIGER  FINANZ_HAUSBAUER    ...     PLZ8_ANTG1  PLZ8_ANTG2  \\\n",
       "0                      5                 3    ...            NaN         NaN   \n",
       "1                      4                 5    ...            2.0         3.0   \n",
       "2                      3                 5    ...            3.0         3.0   \n",
       "3                      1                 2    ...            2.0         2.0   \n",
       "4                      3                 2    ...            2.0         4.0   \n",
       "5                      2                 5    ...            2.0         3.0   \n",
       "6                      4                 3    ...            3.0         3.0   \n",
       "7                      3                 2    ...            3.0         3.0   \n",
       "8                      2                 2    ...            2.0         3.0   \n",
       "9                      5                 4    ...            2.0         3.0   \n",
       "\n",
       "   PLZ8_ANTG3  PLZ8_ANTG4  PLZ8_BAUMAX  PLZ8_HHZ  PLZ8_GBZ  ARBEIT  \\\n",
       "0         NaN         NaN          NaN       NaN       NaN     NaN   \n",
       "1         2.0         1.0          1.0       5.0       4.0     3.0   \n",
       "2         1.0         0.0          1.0       4.0       4.0     3.0   \n",
       "3         2.0         0.0          1.0       3.0       4.0     2.0   \n",
       "4         2.0         1.0          2.0       3.0       3.0     4.0   \n",
       "5         1.0         1.0          1.0       5.0       5.0     2.0   \n",
       "6         1.0         0.0          1.0       5.0       5.0     4.0   \n",
       "7         1.0         0.0          1.0       4.0       4.0     2.0   \n",
       "8         2.0         1.0          1.0       3.0       3.0     2.0   \n",
       "9         2.0         1.0          1.0       3.0       3.0     2.0   \n",
       "\n",
       "   ORTSGR_KLS9  RELAT_AB  \n",
       "0          NaN       NaN  \n",
       "1          5.0       4.0  \n",
       "2          5.0       2.0  \n",
       "3          3.0       3.0  \n",
       "4          6.0       5.0  \n",
       "5          3.0       3.0  \n",
       "6          6.0       3.0  \n",
       "7          5.0       2.0  \n",
       "8          4.0       3.0  \n",
       "9          3.0       1.0  \n",
       "\n",
       "[10 rows x 85 columns]"
      ]
     },
     "execution_count": 4,
     "metadata": {},
     "output_type": "execute_result"
    }
   ],
   "source": [
    "print(azdias.shape)\n",
    "azdias.head(10)"
   ]
  },
  {
   "cell_type": "code",
   "execution_count": 5,
   "metadata": {
    "pycharm": {
     "is_executing": false,
     "name": "#%%\n"
    }
   },
   "outputs": [
    {
     "name": "stdout",
     "output_type": "stream",
     "text": [
      "(85, 4)\n"
     ]
    },
    {
     "data": {
      "text/html": [
       "<div>\n",
       "<style scoped>\n",
       "    .dataframe tbody tr th:only-of-type {\n",
       "        vertical-align: middle;\n",
       "    }\n",
       "\n",
       "    .dataframe tbody tr th {\n",
       "        vertical-align: top;\n",
       "    }\n",
       "\n",
       "    .dataframe thead th {\n",
       "        text-align: right;\n",
       "    }\n",
       "</style>\n",
       "<table border=\"1\" class=\"dataframe\">\n",
       "  <thead>\n",
       "    <tr style=\"text-align: right;\">\n",
       "      <th></th>\n",
       "      <th>attribute</th>\n",
       "      <th>information_level</th>\n",
       "      <th>type</th>\n",
       "      <th>missing_or_unknown</th>\n",
       "    </tr>\n",
       "  </thead>\n",
       "  <tbody>\n",
       "    <tr>\n",
       "      <th>0</th>\n",
       "      <td>AGER_TYP</td>\n",
       "      <td>person</td>\n",
       "      <td>categorical</td>\n",
       "      <td>[-1,0]</td>\n",
       "    </tr>\n",
       "    <tr>\n",
       "      <th>1</th>\n",
       "      <td>ALTERSKATEGORIE_GROB</td>\n",
       "      <td>person</td>\n",
       "      <td>ordinal</td>\n",
       "      <td>[-1,0,9]</td>\n",
       "    </tr>\n",
       "    <tr>\n",
       "      <th>2</th>\n",
       "      <td>ANREDE_KZ</td>\n",
       "      <td>person</td>\n",
       "      <td>categorical</td>\n",
       "      <td>[-1,0]</td>\n",
       "    </tr>\n",
       "  </tbody>\n",
       "</table>\n",
       "</div>"
      ],
      "text/plain": [
       "              attribute information_level         type missing_or_unknown\n",
       "0              AGER_TYP            person  categorical             [-1,0]\n",
       "1  ALTERSKATEGORIE_GROB            person      ordinal           [-1,0,9]\n",
       "2             ANREDE_KZ            person  categorical             [-1,0]"
      ]
     },
     "execution_count": 5,
     "metadata": {},
     "output_type": "execute_result"
    }
   ],
   "source": [
    "print(feat_info.shape)\n",
    "feat_info.head(3)"
   ]
  },
  {
   "cell_type": "markdown",
   "metadata": {},
   "source": [
    "> **Tip**: Add additional cells to keep everything in reasonably-sized chunks! Keyboard shortcut `esc --> a` (press escape to enter command mode, then press the 'A' key) adds a new cell before the active cell, and `esc --> b` adds a new cell after the active cell. If you need to convert an active cell to a markdown cell, use `esc --> m` and to convert to a code cell, use `esc --> y`. \n",
    "\n",
    "## Step 1: Preprocessing\n",
    "\n",
    "### Step 1.1: Assess Missing Data\n",
    "\n",
    "The feature summary file contains a summary of properties for each demographics data column. You will use this file to help you make cleaning decisions during this stage of the project. First of all, you should assess the demographics data in terms of missing data. Pay attention to the following points as you perform your analysis, and take notes on what you observe. Make sure that you fill in the **Discussion** cell with your findings and decisions at the end of each step that has one!\n",
    "\n",
    "#### Step 1.1.1: Convert Missing Value Codes to NaNs\n",
    "The fourth column of the feature attributes summary (loaded in above as `feat_info`) documents the codes from the data dictionary that indicate missing or unknown data. While the file encodes this as a list (e.g. `[-1,0]`), this will get read in as a string object. You'll need to do a little bit of parsing to make use of it to identify and clean the data. Convert data that matches a 'missing' or 'unknown' value code into a numpy NaN value. You might want to see how much data takes on a 'missing' or 'unknown' code, and how much data is naturally missing, as a point of interest.\n",
    "\n",
    "**As one more reminder, you are encouraged to add additional cells to break up your analysis into manageable chunks.**"
   ]
  },
  {
   "cell_type": "code",
   "execution_count": 6,
   "metadata": {
    "pycharm": {
     "is_executing": false
    }
   },
   "outputs": [],
   "source": [
    "# Identify missing or unknown data values and convert them to NaNs.\n",
    "\n",
    "def replace_with_NaN(df, feat_info):\n",
    "    feat_info.missing_or_unknown = feat_info.missing_or_unknown.str.strip('[').str.strip(']').str.split(',')\n",
    "    for i, row in feat_info.iterrows():\n",
    "        if len(row['missing_or_unknown']) > 0 and row['missing_or_unknown'] != ['']:\n",
    "            try:\n",
    "                NaN_indicators = []\n",
    "                for NaN_indicator in row['missing_or_unknown']:\n",
    "                    if NaN_indicator in ['X', 'XX']:\n",
    "                        NaN_indicators.append(NaN_indicator)\n",
    "                    else:\n",
    "                        NaN_indicators.append(int(NaN_indicator))\n",
    "                df[row['attribute']] = df[row['attribute']].replace(NaN_indicators, np.nan)\n",
    "            except Exception as e:\n",
    "                continue                \n",
    "    return df"
   ]
  },
  {
   "cell_type": "code",
   "execution_count": 7,
   "metadata": {
    "pycharm": {
     "is_executing": false,
     "name": "#%%\n"
    }
   },
   "outputs": [
    {
     "data": {
      "text/html": [
       "<div>\n",
       "<style scoped>\n",
       "    .dataframe tbody tr th:only-of-type {\n",
       "        vertical-align: middle;\n",
       "    }\n",
       "\n",
       "    .dataframe tbody tr th {\n",
       "        vertical-align: top;\n",
       "    }\n",
       "\n",
       "    .dataframe thead th {\n",
       "        text-align: right;\n",
       "    }\n",
       "</style>\n",
       "<table border=\"1\" class=\"dataframe\">\n",
       "  <thead>\n",
       "    <tr style=\"text-align: right;\">\n",
       "      <th></th>\n",
       "      <th>AGER_TYP</th>\n",
       "      <th>ALTERSKATEGORIE_GROB</th>\n",
       "      <th>ANREDE_KZ</th>\n",
       "      <th>CJT_GESAMTTYP</th>\n",
       "      <th>FINANZ_MINIMALIST</th>\n",
       "      <th>FINANZ_SPARER</th>\n",
       "      <th>FINANZ_VORSORGER</th>\n",
       "      <th>FINANZ_ANLEGER</th>\n",
       "      <th>FINANZ_UNAUFFAELLIGER</th>\n",
       "      <th>FINANZ_HAUSBAUER</th>\n",
       "      <th>...</th>\n",
       "      <th>PLZ8_ANTG1</th>\n",
       "      <th>PLZ8_ANTG2</th>\n",
       "      <th>PLZ8_ANTG3</th>\n",
       "      <th>PLZ8_ANTG4</th>\n",
       "      <th>PLZ8_BAUMAX</th>\n",
       "      <th>PLZ8_HHZ</th>\n",
       "      <th>PLZ8_GBZ</th>\n",
       "      <th>ARBEIT</th>\n",
       "      <th>ORTSGR_KLS9</th>\n",
       "      <th>RELAT_AB</th>\n",
       "    </tr>\n",
       "  </thead>\n",
       "  <tbody>\n",
       "    <tr>\n",
       "      <th>0</th>\n",
       "      <td>NaN</td>\n",
       "      <td>2.0</td>\n",
       "      <td>1</td>\n",
       "      <td>2.0</td>\n",
       "      <td>3</td>\n",
       "      <td>4</td>\n",
       "      <td>3</td>\n",
       "      <td>5</td>\n",
       "      <td>5</td>\n",
       "      <td>3</td>\n",
       "      <td>...</td>\n",
       "      <td>NaN</td>\n",
       "      <td>NaN</td>\n",
       "      <td>NaN</td>\n",
       "      <td>NaN</td>\n",
       "      <td>NaN</td>\n",
       "      <td>NaN</td>\n",
       "      <td>NaN</td>\n",
       "      <td>NaN</td>\n",
       "      <td>NaN</td>\n",
       "      <td>NaN</td>\n",
       "    </tr>\n",
       "    <tr>\n",
       "      <th>1</th>\n",
       "      <td>NaN</td>\n",
       "      <td>1.0</td>\n",
       "      <td>2</td>\n",
       "      <td>5.0</td>\n",
       "      <td>1</td>\n",
       "      <td>5</td>\n",
       "      <td>2</td>\n",
       "      <td>5</td>\n",
       "      <td>4</td>\n",
       "      <td>5</td>\n",
       "      <td>...</td>\n",
       "      <td>2.0</td>\n",
       "      <td>3.0</td>\n",
       "      <td>2.0</td>\n",
       "      <td>1.0</td>\n",
       "      <td>1.0</td>\n",
       "      <td>5.0</td>\n",
       "      <td>4.0</td>\n",
       "      <td>3.0</td>\n",
       "      <td>5.0</td>\n",
       "      <td>4.0</td>\n",
       "    </tr>\n",
       "    <tr>\n",
       "      <th>2</th>\n",
       "      <td>NaN</td>\n",
       "      <td>3.0</td>\n",
       "      <td>2</td>\n",
       "      <td>3.0</td>\n",
       "      <td>1</td>\n",
       "      <td>4</td>\n",
       "      <td>1</td>\n",
       "      <td>2</td>\n",
       "      <td>3</td>\n",
       "      <td>5</td>\n",
       "      <td>...</td>\n",
       "      <td>3.0</td>\n",
       "      <td>3.0</td>\n",
       "      <td>1.0</td>\n",
       "      <td>0.0</td>\n",
       "      <td>1.0</td>\n",
       "      <td>4.0</td>\n",
       "      <td>4.0</td>\n",
       "      <td>3.0</td>\n",
       "      <td>5.0</td>\n",
       "      <td>2.0</td>\n",
       "    </tr>\n",
       "    <tr>\n",
       "      <th>3</th>\n",
       "      <td>2.0</td>\n",
       "      <td>4.0</td>\n",
       "      <td>2</td>\n",
       "      <td>2.0</td>\n",
       "      <td>4</td>\n",
       "      <td>2</td>\n",
       "      <td>5</td>\n",
       "      <td>2</td>\n",
       "      <td>1</td>\n",
       "      <td>2</td>\n",
       "      <td>...</td>\n",
       "      <td>2.0</td>\n",
       "      <td>2.0</td>\n",
       "      <td>2.0</td>\n",
       "      <td>0.0</td>\n",
       "      <td>1.0</td>\n",
       "      <td>3.0</td>\n",
       "      <td>4.0</td>\n",
       "      <td>2.0</td>\n",
       "      <td>3.0</td>\n",
       "      <td>3.0</td>\n",
       "    </tr>\n",
       "    <tr>\n",
       "      <th>4</th>\n",
       "      <td>NaN</td>\n",
       "      <td>3.0</td>\n",
       "      <td>1</td>\n",
       "      <td>5.0</td>\n",
       "      <td>4</td>\n",
       "      <td>3</td>\n",
       "      <td>4</td>\n",
       "      <td>1</td>\n",
       "      <td>3</td>\n",
       "      <td>2</td>\n",
       "      <td>...</td>\n",
       "      <td>2.0</td>\n",
       "      <td>4.0</td>\n",
       "      <td>2.0</td>\n",
       "      <td>1.0</td>\n",
       "      <td>2.0</td>\n",
       "      <td>3.0</td>\n",
       "      <td>3.0</td>\n",
       "      <td>4.0</td>\n",
       "      <td>6.0</td>\n",
       "      <td>5.0</td>\n",
       "    </tr>\n",
       "    <tr>\n",
       "      <th>5</th>\n",
       "      <td>3.0</td>\n",
       "      <td>1.0</td>\n",
       "      <td>2</td>\n",
       "      <td>2.0</td>\n",
       "      <td>3</td>\n",
       "      <td>1</td>\n",
       "      <td>5</td>\n",
       "      <td>2</td>\n",
       "      <td>2</td>\n",
       "      <td>5</td>\n",
       "      <td>...</td>\n",
       "      <td>2.0</td>\n",
       "      <td>3.0</td>\n",
       "      <td>1.0</td>\n",
       "      <td>1.0</td>\n",
       "      <td>1.0</td>\n",
       "      <td>5.0</td>\n",
       "      <td>5.0</td>\n",
       "      <td>2.0</td>\n",
       "      <td>3.0</td>\n",
       "      <td>3.0</td>\n",
       "    </tr>\n",
       "    <tr>\n",
       "      <th>6</th>\n",
       "      <td>NaN</td>\n",
       "      <td>2.0</td>\n",
       "      <td>2</td>\n",
       "      <td>5.0</td>\n",
       "      <td>1</td>\n",
       "      <td>5</td>\n",
       "      <td>1</td>\n",
       "      <td>5</td>\n",
       "      <td>4</td>\n",
       "      <td>3</td>\n",
       "      <td>...</td>\n",
       "      <td>3.0</td>\n",
       "      <td>3.0</td>\n",
       "      <td>1.0</td>\n",
       "      <td>0.0</td>\n",
       "      <td>1.0</td>\n",
       "      <td>5.0</td>\n",
       "      <td>5.0</td>\n",
       "      <td>4.0</td>\n",
       "      <td>6.0</td>\n",
       "      <td>3.0</td>\n",
       "    </tr>\n",
       "    <tr>\n",
       "      <th>7</th>\n",
       "      <td>NaN</td>\n",
       "      <td>1.0</td>\n",
       "      <td>1</td>\n",
       "      <td>3.0</td>\n",
       "      <td>3</td>\n",
       "      <td>3</td>\n",
       "      <td>4</td>\n",
       "      <td>1</td>\n",
       "      <td>3</td>\n",
       "      <td>2</td>\n",
       "      <td>...</td>\n",
       "      <td>3.0</td>\n",
       "      <td>3.0</td>\n",
       "      <td>1.0</td>\n",
       "      <td>0.0</td>\n",
       "      <td>1.0</td>\n",
       "      <td>4.0</td>\n",
       "      <td>4.0</td>\n",
       "      <td>2.0</td>\n",
       "      <td>5.0</td>\n",
       "      <td>2.0</td>\n",
       "    </tr>\n",
       "    <tr>\n",
       "      <th>8</th>\n",
       "      <td>NaN</td>\n",
       "      <td>3.0</td>\n",
       "      <td>1</td>\n",
       "      <td>3.0</td>\n",
       "      <td>4</td>\n",
       "      <td>4</td>\n",
       "      <td>2</td>\n",
       "      <td>4</td>\n",
       "      <td>2</td>\n",
       "      <td>2</td>\n",
       "      <td>...</td>\n",
       "      <td>2.0</td>\n",
       "      <td>3.0</td>\n",
       "      <td>2.0</td>\n",
       "      <td>1.0</td>\n",
       "      <td>1.0</td>\n",
       "      <td>3.0</td>\n",
       "      <td>3.0</td>\n",
       "      <td>2.0</td>\n",
       "      <td>4.0</td>\n",
       "      <td>3.0</td>\n",
       "    </tr>\n",
       "    <tr>\n",
       "      <th>9</th>\n",
       "      <td>NaN</td>\n",
       "      <td>3.0</td>\n",
       "      <td>2</td>\n",
       "      <td>4.0</td>\n",
       "      <td>2</td>\n",
       "      <td>4</td>\n",
       "      <td>2</td>\n",
       "      <td>3</td>\n",
       "      <td>5</td>\n",
       "      <td>4</td>\n",
       "      <td>...</td>\n",
       "      <td>2.0</td>\n",
       "      <td>3.0</td>\n",
       "      <td>2.0</td>\n",
       "      <td>1.0</td>\n",
       "      <td>1.0</td>\n",
       "      <td>3.0</td>\n",
       "      <td>3.0</td>\n",
       "      <td>2.0</td>\n",
       "      <td>3.0</td>\n",
       "      <td>1.0</td>\n",
       "    </tr>\n",
       "  </tbody>\n",
       "</table>\n",
       "<p>10 rows × 85 columns</p>\n",
       "</div>"
      ],
      "text/plain": [
       "   AGER_TYP  ALTERSKATEGORIE_GROB  ANREDE_KZ  CJT_GESAMTTYP  \\\n",
       "0       NaN                   2.0          1            2.0   \n",
       "1       NaN                   1.0          2            5.0   \n",
       "2       NaN                   3.0          2            3.0   \n",
       "3       2.0                   4.0          2            2.0   \n",
       "4       NaN                   3.0          1            5.0   \n",
       "5       3.0                   1.0          2            2.0   \n",
       "6       NaN                   2.0          2            5.0   \n",
       "7       NaN                   1.0          1            3.0   \n",
       "8       NaN                   3.0          1            3.0   \n",
       "9       NaN                   3.0          2            4.0   \n",
       "\n",
       "   FINANZ_MINIMALIST  FINANZ_SPARER  FINANZ_VORSORGER  FINANZ_ANLEGER  \\\n",
       "0                  3              4                 3               5   \n",
       "1                  1              5                 2               5   \n",
       "2                  1              4                 1               2   \n",
       "3                  4              2                 5               2   \n",
       "4                  4              3                 4               1   \n",
       "5                  3              1                 5               2   \n",
       "6                  1              5                 1               5   \n",
       "7                  3              3                 4               1   \n",
       "8                  4              4                 2               4   \n",
       "9                  2              4                 2               3   \n",
       "\n",
       "   FINANZ_UNAUFFAELLIGER  FINANZ_HAUSBAUER    ...     PLZ8_ANTG1  PLZ8_ANTG2  \\\n",
       "0                      5                 3    ...            NaN         NaN   \n",
       "1                      4                 5    ...            2.0         3.0   \n",
       "2                      3                 5    ...            3.0         3.0   \n",
       "3                      1                 2    ...            2.0         2.0   \n",
       "4                      3                 2    ...            2.0         4.0   \n",
       "5                      2                 5    ...            2.0         3.0   \n",
       "6                      4                 3    ...            3.0         3.0   \n",
       "7                      3                 2    ...            3.0         3.0   \n",
       "8                      2                 2    ...            2.0         3.0   \n",
       "9                      5                 4    ...            2.0         3.0   \n",
       "\n",
       "   PLZ8_ANTG3  PLZ8_ANTG4  PLZ8_BAUMAX  PLZ8_HHZ  PLZ8_GBZ  ARBEIT  \\\n",
       "0         NaN         NaN          NaN       NaN       NaN     NaN   \n",
       "1         2.0         1.0          1.0       5.0       4.0     3.0   \n",
       "2         1.0         0.0          1.0       4.0       4.0     3.0   \n",
       "3         2.0         0.0          1.0       3.0       4.0     2.0   \n",
       "4         2.0         1.0          2.0       3.0       3.0     4.0   \n",
       "5         1.0         1.0          1.0       5.0       5.0     2.0   \n",
       "6         1.0         0.0          1.0       5.0       5.0     4.0   \n",
       "7         1.0         0.0          1.0       4.0       4.0     2.0   \n",
       "8         2.0         1.0          1.0       3.0       3.0     2.0   \n",
       "9         2.0         1.0          1.0       3.0       3.0     2.0   \n",
       "\n",
       "   ORTSGR_KLS9  RELAT_AB  \n",
       "0          NaN       NaN  \n",
       "1          5.0       4.0  \n",
       "2          5.0       2.0  \n",
       "3          3.0       3.0  \n",
       "4          6.0       5.0  \n",
       "5          3.0       3.0  \n",
       "6          6.0       3.0  \n",
       "7          5.0       2.0  \n",
       "8          4.0       3.0  \n",
       "9          3.0       1.0  \n",
       "\n",
       "[10 rows x 85 columns]"
      ]
     },
     "execution_count": 7,
     "metadata": {},
     "output_type": "execute_result"
    }
   ],
   "source": [
    "azdias = replace_with_NaN(azdias, feat_info)\n",
    "azdias.head(10)"
   ]
  },
  {
   "cell_type": "markdown",
   "metadata": {},
   "source": [
    "#### Step 1.1.2: Assess Missing Data in Each Column\n",
    "\n",
    "How much missing data is present in each column? There are a few columns that are outliers in terms of the proportion of values that are missing. You will want to use matplotlib's [`hist()`](https://matplotlib.org/api/_as_gen/matplotlib.pyplot.hist.html) function to visualize the distribution of missing value counts to find these columns. Identify and document these columns. While some of these columns might have justifications for keeping or re-encoding the data, for this project you should just remove them from the dataframe. (Feel free to make remarks about these outlier columns in the discussion, however!)\n",
    "\n",
    "For the remaining features, are there any patterns in which columns have, or share, missing data?"
   ]
  },
  {
   "cell_type": "code",
   "execution_count": 8,
   "metadata": {
    "pycharm": {
     "is_executing": false,
     "name": "#%%\n"
    }
   },
   "outputs": [],
   "source": [
    "# Perform an assessment of how much missing data there is in each column of the\n",
    "# dataset.\n",
    "def calculate_missing_data(df):\n",
    "    records = []\n",
    "    for col in df.columns:\n",
    "        missing_count = df[col].isnull().sum(axis=0)\n",
    "        missing_percent = missing_count / df.shape[0]\n",
    "        records.append([col, missing_count, missing_percent * 100])\n",
    "        stats = pd.DataFrame.from_records(records, columns = ['attribute', 'missing_count', 'missing_percent'])  \n",
    "        stats = stats.sort_values('missing_percent', axis=0, ascending=False )\n",
    "    return stats"
   ]
  },
  {
   "cell_type": "code",
   "execution_count": 9,
   "metadata": {
    "pycharm": {
     "is_executing": false,
     "name": "#%%\n"
    }
   },
   "outputs": [
    {
     "data": {
      "text/html": [
       "<div>\n",
       "<style scoped>\n",
       "    .dataframe tbody tr th:only-of-type {\n",
       "        vertical-align: middle;\n",
       "    }\n",
       "\n",
       "    .dataframe tbody tr th {\n",
       "        vertical-align: top;\n",
       "    }\n",
       "\n",
       "    .dataframe thead th {\n",
       "        text-align: right;\n",
       "    }\n",
       "</style>\n",
       "<table border=\"1\" class=\"dataframe\">\n",
       "  <thead>\n",
       "    <tr style=\"text-align: right;\">\n",
       "      <th></th>\n",
       "      <th>attribute</th>\n",
       "      <th>missing_count</th>\n",
       "      <th>missing_percent</th>\n",
       "    </tr>\n",
       "  </thead>\n",
       "  <tbody>\n",
       "    <tr>\n",
       "      <th>40</th>\n",
       "      <td>TITEL_KZ</td>\n",
       "      <td>889061</td>\n",
       "      <td>99.757636</td>\n",
       "    </tr>\n",
       "    <tr>\n",
       "      <th>0</th>\n",
       "      <td>AGER_TYP</td>\n",
       "      <td>685843</td>\n",
       "      <td>76.955435</td>\n",
       "    </tr>\n",
       "    <tr>\n",
       "      <th>47</th>\n",
       "      <td>KK_KUNDENTYP</td>\n",
       "      <td>584612</td>\n",
       "      <td>65.596749</td>\n",
       "    </tr>\n",
       "    <tr>\n",
       "      <th>64</th>\n",
       "      <td>KBA05_BAUMAX</td>\n",
       "      <td>476524</td>\n",
       "      <td>53.468668</td>\n",
       "    </tr>\n",
       "    <tr>\n",
       "      <th>11</th>\n",
       "      <td>GEBURTSJAHR</td>\n",
       "      <td>392318</td>\n",
       "      <td>44.020282</td>\n",
       "    </tr>\n",
       "    <tr>\n",
       "      <th>43</th>\n",
       "      <td>ALTER_HH</td>\n",
       "      <td>310267</td>\n",
       "      <td>34.813699</td>\n",
       "    </tr>\n",
       "    <tr>\n",
       "      <th>70</th>\n",
       "      <td>KKK</td>\n",
       "      <td>158064</td>\n",
       "      <td>17.735668</td>\n",
       "    </tr>\n",
       "    <tr>\n",
       "      <th>73</th>\n",
       "      <td>REGIOTYP</td>\n",
       "      <td>158064</td>\n",
       "      <td>17.735668</td>\n",
       "    </tr>\n",
       "    <tr>\n",
       "      <th>48</th>\n",
       "      <td>W_KEIT_KIND_HH</td>\n",
       "      <td>147988</td>\n",
       "      <td>16.605084</td>\n",
       "    </tr>\n",
       "    <tr>\n",
       "      <th>60</th>\n",
       "      <td>KBA05_ANTG1</td>\n",
       "      <td>133324</td>\n",
       "      <td>14.959701</td>\n",
       "    </tr>\n",
       "    <tr>\n",
       "      <th>61</th>\n",
       "      <td>KBA05_ANTG2</td>\n",
       "      <td>133324</td>\n",
       "      <td>14.959701</td>\n",
       "    </tr>\n",
       "    <tr>\n",
       "      <th>62</th>\n",
       "      <td>KBA05_ANTG3</td>\n",
       "      <td>133324</td>\n",
       "      <td>14.959701</td>\n",
       "    </tr>\n",
       "    <tr>\n",
       "      <th>63</th>\n",
       "      <td>KBA05_ANTG4</td>\n",
       "      <td>133324</td>\n",
       "      <td>14.959701</td>\n",
       "    </tr>\n",
       "    <tr>\n",
       "      <th>65</th>\n",
       "      <td>KBA05_GBZ</td>\n",
       "      <td>133324</td>\n",
       "      <td>14.959701</td>\n",
       "    </tr>\n",
       "    <tr>\n",
       "      <th>71</th>\n",
       "      <td>MOBI_REGIO</td>\n",
       "      <td>133324</td>\n",
       "      <td>14.959701</td>\n",
       "    </tr>\n",
       "    <tr>\n",
       "      <th>77</th>\n",
       "      <td>PLZ8_ANTG3</td>\n",
       "      <td>116515</td>\n",
       "      <td>13.073637</td>\n",
       "    </tr>\n",
       "    <tr>\n",
       "      <th>76</th>\n",
       "      <td>PLZ8_ANTG2</td>\n",
       "      <td>116515</td>\n",
       "      <td>13.073637</td>\n",
       "    </tr>\n",
       "    <tr>\n",
       "      <th>81</th>\n",
       "      <td>PLZ8_GBZ</td>\n",
       "      <td>116515</td>\n",
       "      <td>13.073637</td>\n",
       "    </tr>\n",
       "    <tr>\n",
       "      <th>80</th>\n",
       "      <td>PLZ8_HHZ</td>\n",
       "      <td>116515</td>\n",
       "      <td>13.073637</td>\n",
       "    </tr>\n",
       "    <tr>\n",
       "      <th>75</th>\n",
       "      <td>PLZ8_ANTG1</td>\n",
       "      <td>116515</td>\n",
       "      <td>13.073637</td>\n",
       "    </tr>\n",
       "    <tr>\n",
       "      <th>79</th>\n",
       "      <td>PLZ8_BAUMAX</td>\n",
       "      <td>116515</td>\n",
       "      <td>13.073637</td>\n",
       "    </tr>\n",
       "    <tr>\n",
       "      <th>78</th>\n",
       "      <td>PLZ8_ANTG4</td>\n",
       "      <td>116515</td>\n",
       "      <td>13.073637</td>\n",
       "    </tr>\n",
       "    <tr>\n",
       "      <th>41</th>\n",
       "      <td>VERS_TYP</td>\n",
       "      <td>111196</td>\n",
       "      <td>12.476816</td>\n",
       "    </tr>\n",
       "    <tr>\n",
       "      <th>14</th>\n",
       "      <td>HEALTH_TYP</td>\n",
       "      <td>111196</td>\n",
       "      <td>12.476816</td>\n",
       "    </tr>\n",
       "    <tr>\n",
       "      <th>38</th>\n",
       "      <td>SHOPPER_TYP</td>\n",
       "      <td>111196</td>\n",
       "      <td>12.476816</td>\n",
       "    </tr>\n",
       "    <tr>\n",
       "      <th>21</th>\n",
       "      <td>NATIONALITAET_KZ</td>\n",
       "      <td>108315</td>\n",
       "      <td>12.153551</td>\n",
       "    </tr>\n",
       "    <tr>\n",
       "      <th>22</th>\n",
       "      <td>PRAEGENDE_JUGENDJAHRE</td>\n",
       "      <td>108164</td>\n",
       "      <td>12.136608</td>\n",
       "    </tr>\n",
       "    <tr>\n",
       "      <th>74</th>\n",
       "      <td>KBA13_ANZAHL_PKW</td>\n",
       "      <td>105800</td>\n",
       "      <td>11.871354</td>\n",
       "    </tr>\n",
       "    <tr>\n",
       "      <th>50</th>\n",
       "      <td>ANZ_HAUSHALTE_AKTIV</td>\n",
       "      <td>99611</td>\n",
       "      <td>11.176913</td>\n",
       "    </tr>\n",
       "    <tr>\n",
       "      <th>59</th>\n",
       "      <td>CAMEO_INTL_2015</td>\n",
       "      <td>99352</td>\n",
       "      <td>11.147852</td>\n",
       "    </tr>\n",
       "    <tr>\n",
       "      <th>...</th>\n",
       "      <td>...</td>\n",
       "      <td>...</td>\n",
       "      <td>...</td>\n",
       "    </tr>\n",
       "    <tr>\n",
       "      <th>3</th>\n",
       "      <td>CJT_GESAMTTYP</td>\n",
       "      <td>4854</td>\n",
       "      <td>0.544646</td>\n",
       "    </tr>\n",
       "    <tr>\n",
       "      <th>19</th>\n",
       "      <td>LP_STATUS_FEIN</td>\n",
       "      <td>4854</td>\n",
       "      <td>0.544646</td>\n",
       "    </tr>\n",
       "    <tr>\n",
       "      <th>20</th>\n",
       "      <td>LP_STATUS_GROB</td>\n",
       "      <td>4854</td>\n",
       "      <td>0.544646</td>\n",
       "    </tr>\n",
       "    <tr>\n",
       "      <th>23</th>\n",
       "      <td>RETOURTYP_BK_S</td>\n",
       "      <td>4854</td>\n",
       "      <td>0.544646</td>\n",
       "    </tr>\n",
       "    <tr>\n",
       "      <th>72</th>\n",
       "      <td>ONLINE_AFFINITAET</td>\n",
       "      <td>4854</td>\n",
       "      <td>0.544646</td>\n",
       "    </tr>\n",
       "    <tr>\n",
       "      <th>1</th>\n",
       "      <td>ALTERSKATEGORIE_GROB</td>\n",
       "      <td>2881</td>\n",
       "      <td>0.323264</td>\n",
       "    </tr>\n",
       "    <tr>\n",
       "      <th>8</th>\n",
       "      <td>FINANZ_UNAUFFAELLIGER</td>\n",
       "      <td>0</td>\n",
       "      <td>0.000000</td>\n",
       "    </tr>\n",
       "    <tr>\n",
       "      <th>10</th>\n",
       "      <td>FINANZTYP</td>\n",
       "      <td>0</td>\n",
       "      <td>0.000000</td>\n",
       "    </tr>\n",
       "    <tr>\n",
       "      <th>9</th>\n",
       "      <td>FINANZ_HAUSBAUER</td>\n",
       "      <td>0</td>\n",
       "      <td>0.000000</td>\n",
       "    </tr>\n",
       "    <tr>\n",
       "      <th>13</th>\n",
       "      <td>GREEN_AVANTGARDE</td>\n",
       "      <td>0</td>\n",
       "      <td>0.000000</td>\n",
       "    </tr>\n",
       "    <tr>\n",
       "      <th>5</th>\n",
       "      <td>FINANZ_SPARER</td>\n",
       "      <td>0</td>\n",
       "      <td>0.000000</td>\n",
       "    </tr>\n",
       "    <tr>\n",
       "      <th>4</th>\n",
       "      <td>FINANZ_MINIMALIST</td>\n",
       "      <td>0</td>\n",
       "      <td>0.000000</td>\n",
       "    </tr>\n",
       "    <tr>\n",
       "      <th>6</th>\n",
       "      <td>FINANZ_VORSORGER</td>\n",
       "      <td>0</td>\n",
       "      <td>0.000000</td>\n",
       "    </tr>\n",
       "    <tr>\n",
       "      <th>7</th>\n",
       "      <td>FINANZ_ANLEGER</td>\n",
       "      <td>0</td>\n",
       "      <td>0.000000</td>\n",
       "    </tr>\n",
       "    <tr>\n",
       "      <th>2</th>\n",
       "      <td>ANREDE_KZ</td>\n",
       "      <td>0</td>\n",
       "      <td>0.000000</td>\n",
       "    </tr>\n",
       "    <tr>\n",
       "      <th>35</th>\n",
       "      <td>SEMIO_KAEM</td>\n",
       "      <td>0</td>\n",
       "      <td>0.000000</td>\n",
       "    </tr>\n",
       "    <tr>\n",
       "      <th>24</th>\n",
       "      <td>SEMIO_SOZ</td>\n",
       "      <td>0</td>\n",
       "      <td>0.000000</td>\n",
       "    </tr>\n",
       "    <tr>\n",
       "      <th>36</th>\n",
       "      <td>SEMIO_PFLICHT</td>\n",
       "      <td>0</td>\n",
       "      <td>0.000000</td>\n",
       "    </tr>\n",
       "    <tr>\n",
       "      <th>25</th>\n",
       "      <td>SEMIO_FAM</td>\n",
       "      <td>0</td>\n",
       "      <td>0.000000</td>\n",
       "    </tr>\n",
       "    <tr>\n",
       "      <th>26</th>\n",
       "      <td>SEMIO_REL</td>\n",
       "      <td>0</td>\n",
       "      <td>0.000000</td>\n",
       "    </tr>\n",
       "    <tr>\n",
       "      <th>27</th>\n",
       "      <td>SEMIO_MAT</td>\n",
       "      <td>0</td>\n",
       "      <td>0.000000</td>\n",
       "    </tr>\n",
       "    <tr>\n",
       "      <th>28</th>\n",
       "      <td>SEMIO_VERT</td>\n",
       "      <td>0</td>\n",
       "      <td>0.000000</td>\n",
       "    </tr>\n",
       "    <tr>\n",
       "      <th>29</th>\n",
       "      <td>SEMIO_LUST</td>\n",
       "      <td>0</td>\n",
       "      <td>0.000000</td>\n",
       "    </tr>\n",
       "    <tr>\n",
       "      <th>30</th>\n",
       "      <td>SEMIO_ERL</td>\n",
       "      <td>0</td>\n",
       "      <td>0.000000</td>\n",
       "    </tr>\n",
       "    <tr>\n",
       "      <th>31</th>\n",
       "      <td>SEMIO_KULT</td>\n",
       "      <td>0</td>\n",
       "      <td>0.000000</td>\n",
       "    </tr>\n",
       "    <tr>\n",
       "      <th>32</th>\n",
       "      <td>SEMIO_RAT</td>\n",
       "      <td>0</td>\n",
       "      <td>0.000000</td>\n",
       "    </tr>\n",
       "    <tr>\n",
       "      <th>33</th>\n",
       "      <td>SEMIO_KRIT</td>\n",
       "      <td>0</td>\n",
       "      <td>0.000000</td>\n",
       "    </tr>\n",
       "    <tr>\n",
       "      <th>34</th>\n",
       "      <td>SEMIO_DOM</td>\n",
       "      <td>0</td>\n",
       "      <td>0.000000</td>\n",
       "    </tr>\n",
       "    <tr>\n",
       "      <th>37</th>\n",
       "      <td>SEMIO_TRADV</td>\n",
       "      <td>0</td>\n",
       "      <td>0.000000</td>\n",
       "    </tr>\n",
       "    <tr>\n",
       "      <th>42</th>\n",
       "      <td>ZABEOTYP</td>\n",
       "      <td>0</td>\n",
       "      <td>0.000000</td>\n",
       "    </tr>\n",
       "  </tbody>\n",
       "</table>\n",
       "<p>85 rows × 3 columns</p>\n",
       "</div>"
      ],
      "text/plain": [
       "                attribute  missing_count  missing_percent\n",
       "40               TITEL_KZ         889061        99.757636\n",
       "0                AGER_TYP         685843        76.955435\n",
       "47           KK_KUNDENTYP         584612        65.596749\n",
       "64           KBA05_BAUMAX         476524        53.468668\n",
       "11            GEBURTSJAHR         392318        44.020282\n",
       "43               ALTER_HH         310267        34.813699\n",
       "70                    KKK         158064        17.735668\n",
       "73               REGIOTYP         158064        17.735668\n",
       "48         W_KEIT_KIND_HH         147988        16.605084\n",
       "60            KBA05_ANTG1         133324        14.959701\n",
       "61            KBA05_ANTG2         133324        14.959701\n",
       "62            KBA05_ANTG3         133324        14.959701\n",
       "63            KBA05_ANTG4         133324        14.959701\n",
       "65              KBA05_GBZ         133324        14.959701\n",
       "71             MOBI_REGIO         133324        14.959701\n",
       "77             PLZ8_ANTG3         116515        13.073637\n",
       "76             PLZ8_ANTG2         116515        13.073637\n",
       "81               PLZ8_GBZ         116515        13.073637\n",
       "80               PLZ8_HHZ         116515        13.073637\n",
       "75             PLZ8_ANTG1         116515        13.073637\n",
       "79            PLZ8_BAUMAX         116515        13.073637\n",
       "78             PLZ8_ANTG4         116515        13.073637\n",
       "41               VERS_TYP         111196        12.476816\n",
       "14             HEALTH_TYP         111196        12.476816\n",
       "38            SHOPPER_TYP         111196        12.476816\n",
       "21       NATIONALITAET_KZ         108315        12.153551\n",
       "22  PRAEGENDE_JUGENDJAHRE         108164        12.136608\n",
       "74       KBA13_ANZAHL_PKW         105800        11.871354\n",
       "50    ANZ_HAUSHALTE_AKTIV          99611        11.176913\n",
       "59        CAMEO_INTL_2015          99352        11.147852\n",
       "..                    ...            ...              ...\n",
       "3           CJT_GESAMTTYP           4854         0.544646\n",
       "19         LP_STATUS_FEIN           4854         0.544646\n",
       "20         LP_STATUS_GROB           4854         0.544646\n",
       "23         RETOURTYP_BK_S           4854         0.544646\n",
       "72      ONLINE_AFFINITAET           4854         0.544646\n",
       "1    ALTERSKATEGORIE_GROB           2881         0.323264\n",
       "8   FINANZ_UNAUFFAELLIGER              0         0.000000\n",
       "10              FINANZTYP              0         0.000000\n",
       "9        FINANZ_HAUSBAUER              0         0.000000\n",
       "13       GREEN_AVANTGARDE              0         0.000000\n",
       "5           FINANZ_SPARER              0         0.000000\n",
       "4       FINANZ_MINIMALIST              0         0.000000\n",
       "6        FINANZ_VORSORGER              0         0.000000\n",
       "7          FINANZ_ANLEGER              0         0.000000\n",
       "2               ANREDE_KZ              0         0.000000\n",
       "35             SEMIO_KAEM              0         0.000000\n",
       "24              SEMIO_SOZ              0         0.000000\n",
       "36          SEMIO_PFLICHT              0         0.000000\n",
       "25              SEMIO_FAM              0         0.000000\n",
       "26              SEMIO_REL              0         0.000000\n",
       "27              SEMIO_MAT              0         0.000000\n",
       "28             SEMIO_VERT              0         0.000000\n",
       "29             SEMIO_LUST              0         0.000000\n",
       "30              SEMIO_ERL              0         0.000000\n",
       "31             SEMIO_KULT              0         0.000000\n",
       "32              SEMIO_RAT              0         0.000000\n",
       "33             SEMIO_KRIT              0         0.000000\n",
       "34              SEMIO_DOM              0         0.000000\n",
       "37            SEMIO_TRADV              0         0.000000\n",
       "42               ZABEOTYP              0         0.000000\n",
       "\n",
       "[85 rows x 3 columns]"
      ]
     },
     "execution_count": 9,
     "metadata": {},
     "output_type": "execute_result"
    }
   ],
   "source": [
    "missing_col_stats = calculate_missing_data(azdias)\n",
    "missing_col_stats"
   ]
  },
  {
   "cell_type": "code",
   "execution_count": 10,
   "metadata": {
    "pycharm": {
     "is_executing": false,
     "name": "#%%\n"
    }
   },
   "outputs": [
    {
     "data": {
      "text/plain": [
       "array([[<matplotlib.axes._subplots.AxesSubplot object at 0x7ff4176fb0f0>]], dtype=object)"
      ]
     },
     "execution_count": 10,
     "metadata": {},
     "output_type": "execute_result"
    },
    {
     "data": {
      "image/png": "[encoded data removed]",
      "text/plain": [
       "<matplotlib.figure.Figure at 0x7ff4177b5518>"
      ]
     },
     "metadata": {
      "needs_background": "light"
     },
     "output_type": "display_data"
    }
   ],
   "source": [
    "missing_col_stats.hist(column='missing_percent', bins=25 )"
   ]
  },
  {
   "cell_type": "code",
   "execution_count": 11,
   "metadata": {
    "pycharm": {
     "is_executing": false
    }
   },
   "outputs": [
    {
     "data": {
      "text/plain": [
       "Text(0,0.5,'Features')"
      ]
     },
     "execution_count": 11,
     "metadata": {},
     "output_type": "execute_result"
    },
    {
     "data": {
      "image/png": "[encoded data removed]",
      "text/plain": [
       "<matplotlib.figure.Figure at 0x7ff4156a7198>"
      ]
     },
     "metadata": {
      "needs_background": "light"
     },
     "output_type": "display_data"
    }
   ],
   "source": [
    "# Investigate patterns in the amount of missing data in each column.\n",
    "plot = missing_col_stats.sort_values('missing_percent', ascending=True)\n",
    "plot.plot.barh(x='attribute', y='missing_percent', figsize=(8, 24), grid=True)\n",
    "plt.title(\"Missing Data in Each Feature\")\n",
    "plt.xlabel(\"Percent\")\n",
    "plt.ylabel(\"Features\")"
   ]
  },
  {
   "cell_type": "code",
   "execution_count": 12,
   "metadata": {
    "pycharm": {
     "is_executing": false
    }
   },
   "outputs": [],
   "source": [
    "# Remove the outlier columns from the dataset. (You'll perform other data\n",
    "# engineering tasks such as re-encoding and imputation later.)"
   ]
  },
  {
   "cell_type": "code",
   "execution_count": 13,
   "metadata": {
    "pycharm": {
     "is_executing": false,
     "name": "#%%\n"
    }
   },
   "outputs": [
    {
     "data": {
      "text/html": [
       "<div>\n",
       "<style scoped>\n",
       "    .dataframe tbody tr th:only-of-type {\n",
       "        vertical-align: middle;\n",
       "    }\n",
       "\n",
       "    .dataframe tbody tr th {\n",
       "        vertical-align: top;\n",
       "    }\n",
       "\n",
       "    .dataframe thead th {\n",
       "        text-align: right;\n",
       "    }\n",
       "</style>\n",
       "<table border=\"1\" class=\"dataframe\">\n",
       "  <thead>\n",
       "    <tr style=\"text-align: right;\">\n",
       "      <th></th>\n",
       "      <th>attribute</th>\n",
       "      <th>missing_count</th>\n",
       "      <th>missing_percent</th>\n",
       "    </tr>\n",
       "  </thead>\n",
       "  <tbody>\n",
       "    <tr>\n",
       "      <th>40</th>\n",
       "      <td>TITEL_KZ</td>\n",
       "      <td>889061</td>\n",
       "      <td>99.757636</td>\n",
       "    </tr>\n",
       "    <tr>\n",
       "      <th>0</th>\n",
       "      <td>AGER_TYP</td>\n",
       "      <td>685843</td>\n",
       "      <td>76.955435</td>\n",
       "    </tr>\n",
       "    <tr>\n",
       "      <th>47</th>\n",
       "      <td>KK_KUNDENTYP</td>\n",
       "      <td>584612</td>\n",
       "      <td>65.596749</td>\n",
       "    </tr>\n",
       "    <tr>\n",
       "      <th>64</th>\n",
       "      <td>KBA05_BAUMAX</td>\n",
       "      <td>476524</td>\n",
       "      <td>53.468668</td>\n",
       "    </tr>\n",
       "    <tr>\n",
       "      <th>11</th>\n",
       "      <td>GEBURTSJAHR</td>\n",
       "      <td>392318</td>\n",
       "      <td>44.020282</td>\n",
       "    </tr>\n",
       "    <tr>\n",
       "      <th>43</th>\n",
       "      <td>ALTER_HH</td>\n",
       "      <td>310267</td>\n",
       "      <td>34.813699</td>\n",
       "    </tr>\n",
       "  </tbody>\n",
       "</table>\n",
       "</div>"
      ],
      "text/plain": [
       "       attribute  missing_count  missing_percent\n",
       "40      TITEL_KZ         889061        99.757636\n",
       "0       AGER_TYP         685843        76.955435\n",
       "47  KK_KUNDENTYP         584612        65.596749\n",
       "64  KBA05_BAUMAX         476524        53.468668\n",
       "11   GEBURTSJAHR         392318        44.020282\n",
       "43      ALTER_HH         310267        34.813699"
      ]
     },
     "execution_count": 13,
     "metadata": {},
     "output_type": "execute_result"
    }
   ],
   "source": [
    "# Get all the features with missing data of 30% or more\n",
    "features_to_drop = missing_col_stats[missing_col_stats['missing_percent'] >= 30]\n",
    "features_to_drop"
   ]
  },
  {
   "cell_type": "code",
   "execution_count": 14,
   "metadata": {
    "pycharm": {
     "is_executing": false,
     "name": "#%%\n"
    }
   },
   "outputs": [
    {
     "data": {
      "text/plain": [
       "(891221, 79)"
      ]
     },
     "execution_count": 14,
     "metadata": {},
     "output_type": "execute_result"
    }
   ],
   "source": [
    "# Drop these features from azdias\n",
    "azdias.drop(features_to_drop['attribute'], axis=1, inplace = True) \n",
    "azdias.shape"
   ]
  },
  {
   "cell_type": "code",
   "execution_count": 15,
   "metadata": {
    "pycharm": {
     "is_executing": false,
     "name": "#%%\n"
    }
   },
   "outputs": [
    {
     "data": {
      "text/plain": [
       "(79, 4)"
      ]
     },
     "execution_count": 15,
     "metadata": {},
     "output_type": "execute_result"
    }
   ],
   "source": [
    "# Remove these features in the 'attribute' column of feat_info\n",
    "feat_info = feat_info.loc[~feat_info['attribute'].isin(features_to_drop['attribute'].tolist())]\n",
    "feat_info.shape"
   ]
  },
  {
   "cell_type": "markdown",
   "metadata": {},
   "source": [
    "#### Discussion 1.1.2: Assess Missing Data in Each Column\n",
    "\n",
    "(Double click this cell and replace this text with your own text, reporting your observations regarding the amount of missing data in each column. Are there any patterns in missing values? Which columns were removed from the dataset?)\n",
    "\n",
    "- Among all features, six have the percentage of missing data over 30%: TITEL_KZ, AGER_TYP, KK_KUNDENTYP, KBA05_BAUMAX, GEBURTSJAHR, ALTER_HH. These have been removed from the data set.\n",
    "- These features tend to be personal information, such as date of birth/age, comsumer pattern and accommodation.\n",
    "- The rest have the percentage of below 17%, which is reasonable to be kept."
   ]
  },
  {
   "cell_type": "markdown",
   "metadata": {},
   "source": [
    "#### Step 1.1.3: Assess Missing Data in Each Row\n",
    "\n",
    "Now, you'll perform a similar assessment for the rows of the dataset. How much data is missing in each row? As with the columns, you should see some groups of points that have a very different numbers of missing values. Divide the data into two subsets: one for data points that are above some threshold for missing values, and a second subset for points below that threshold.\n",
    "\n",
    "In order to know what to do with the outlier rows, we should see if the distribution of data values on columns that are not missing data (or are missing very little data) are similar or different between the two groups. Select at least five of these columns and compare the distribution of values.\n",
    "- You can use seaborn's [`countplot()`](https://seaborn.pydata.org/generated/seaborn.countplot.html) function to create a bar chart of code frequencies and matplotlib's [`subplot()`](https://matplotlib.org/api/_as_gen/matplotlib.pyplot.subplot.html) function to put bar charts for the two subplots side by side.\n",
    "- To reduce repeated code, you might want to write a function that can perform this comparison, taking as one of its arguments a column to be compared.\n",
    "\n",
    "Depending on what you observe in your comparison, this will have implications on how you approach your conclusions later in the analysis. If the distributions of non-missing features look similar between the data with many missing values and the data with few or no missing values, then we could argue that simply dropping those points from the analysis won't present a major issue. On the other hand, if the data with many missing values looks very different from the data with few or no missing values, then we should make a note on those data as special. We'll revisit these data later on. **Either way, you should continue your analysis for now using just the subset of the data with few or no missing values.**"
   ]
  },
  {
   "cell_type": "code",
   "execution_count": 16,
   "metadata": {
    "pycharm": {
     "is_executing": false
    }
   },
   "outputs": [
    {
     "data": {
      "text/plain": [
       "Text(0.5,1,'The number of missing row data ')"
      ]
     },
     "execution_count": 16,
     "metadata": {},
     "output_type": "execute_result"
    },
    {
     "data": {
      "image/png": "[encoded data removed]",
      "text/plain": [
       "<matplotlib.figure.Figure at 0x7ff41775fac8>"
      ]
     },
     "metadata": {
      "needs_background": "light"
     },
     "output_type": "display_data"
    }
   ],
   "source": [
    "# How much data is missing in each row of the dataset?\n",
    "missing_row_stats = azdias.isnull().sum(axis=1)\n",
    "missing_row_stats.hist(bins=50)\n",
    "plt.title(\"The number of missing row data \" )"
   ]
  },
  {
   "cell_type": "code",
   "execution_count": 17,
   "metadata": {
    "pycharm": {
     "is_executing": false
    }
   },
   "outputs": [],
   "source": [
    "# Write code to divide the data into two subsets based on the number of missing\n",
    "# values in each row.\n",
    "def split(df, missing_count_threshold):\n",
    "    below_threshold = df.isnull().sum(axis=1) < missing_count_threshold\n",
    "    return df[below_threshold], df[~below_threshold]"
   ]
  },
  {
   "cell_type": "code",
   "execution_count": 18,
   "metadata": {
    "pycharm": {
     "is_executing": false,
     "name": "#%%\n"
    }
   },
   "outputs": [],
   "source": [
    "missing_count_threshold_for_rows = 20\n",
    "azdias_missing_below_threshold, azdias_missing_above_threshold = split(azdias, missing_count_threshold_for_rows)"
   ]
  },
  {
   "cell_type": "code",
   "execution_count": 19,
   "metadata": {
    "pycharm": {
     "is_executing": false,
     "name": "#%%\n"
    }
   },
   "outputs": [
    {
     "name": "stdout",
     "output_type": "stream",
     "text": [
      "(797077, 79)\n"
     ]
    },
    {
     "data": {
      "text/html": [
       "<div>\n",
       "<style scoped>\n",
       "    .dataframe tbody tr th:only-of-type {\n",
       "        vertical-align: middle;\n",
       "    }\n",
       "\n",
       "    .dataframe tbody tr th {\n",
       "        vertical-align: top;\n",
       "    }\n",
       "\n",
       "    .dataframe thead th {\n",
       "        text-align: right;\n",
       "    }\n",
       "</style>\n",
       "<table border=\"1\" class=\"dataframe\">\n",
       "  <thead>\n",
       "    <tr style=\"text-align: right;\">\n",
       "      <th></th>\n",
       "      <th>ALTERSKATEGORIE_GROB</th>\n",
       "      <th>ANREDE_KZ</th>\n",
       "      <th>CJT_GESAMTTYP</th>\n",
       "      <th>FINANZ_MINIMALIST</th>\n",
       "      <th>FINANZ_SPARER</th>\n",
       "      <th>FINANZ_VORSORGER</th>\n",
       "      <th>FINANZ_ANLEGER</th>\n",
       "      <th>FINANZ_UNAUFFAELLIGER</th>\n",
       "      <th>FINANZ_HAUSBAUER</th>\n",
       "      <th>FINANZTYP</th>\n",
       "      <th>...</th>\n",
       "      <th>PLZ8_ANTG1</th>\n",
       "      <th>PLZ8_ANTG2</th>\n",
       "      <th>PLZ8_ANTG3</th>\n",
       "      <th>PLZ8_ANTG4</th>\n",
       "      <th>PLZ8_BAUMAX</th>\n",
       "      <th>PLZ8_HHZ</th>\n",
       "      <th>PLZ8_GBZ</th>\n",
       "      <th>ARBEIT</th>\n",
       "      <th>ORTSGR_KLS9</th>\n",
       "      <th>RELAT_AB</th>\n",
       "    </tr>\n",
       "  </thead>\n",
       "  <tbody>\n",
       "    <tr>\n",
       "      <th>1</th>\n",
       "      <td>1.0</td>\n",
       "      <td>2</td>\n",
       "      <td>5.0</td>\n",
       "      <td>1</td>\n",
       "      <td>5</td>\n",
       "      <td>2</td>\n",
       "      <td>5</td>\n",
       "      <td>4</td>\n",
       "      <td>5</td>\n",
       "      <td>1</td>\n",
       "      <td>...</td>\n",
       "      <td>2.0</td>\n",
       "      <td>3.0</td>\n",
       "      <td>2.0</td>\n",
       "      <td>1.0</td>\n",
       "      <td>1.0</td>\n",
       "      <td>5.0</td>\n",
       "      <td>4.0</td>\n",
       "      <td>3.0</td>\n",
       "      <td>5.0</td>\n",
       "      <td>4.0</td>\n",
       "    </tr>\n",
       "    <tr>\n",
       "      <th>2</th>\n",
       "      <td>3.0</td>\n",
       "      <td>2</td>\n",
       "      <td>3.0</td>\n",
       "      <td>1</td>\n",
       "      <td>4</td>\n",
       "      <td>1</td>\n",
       "      <td>2</td>\n",
       "      <td>3</td>\n",
       "      <td>5</td>\n",
       "      <td>1</td>\n",
       "      <td>...</td>\n",
       "      <td>3.0</td>\n",
       "      <td>3.0</td>\n",
       "      <td>1.0</td>\n",
       "      <td>0.0</td>\n",
       "      <td>1.0</td>\n",
       "      <td>4.0</td>\n",
       "      <td>4.0</td>\n",
       "      <td>3.0</td>\n",
       "      <td>5.0</td>\n",
       "      <td>2.0</td>\n",
       "    </tr>\n",
       "    <tr>\n",
       "      <th>3</th>\n",
       "      <td>4.0</td>\n",
       "      <td>2</td>\n",
       "      <td>2.0</td>\n",
       "      <td>4</td>\n",
       "      <td>2</td>\n",
       "      <td>5</td>\n",
       "      <td>2</td>\n",
       "      <td>1</td>\n",
       "      <td>2</td>\n",
       "      <td>6</td>\n",
       "      <td>...</td>\n",
       "      <td>2.0</td>\n",
       "      <td>2.0</td>\n",
       "      <td>2.0</td>\n",
       "      <td>0.0</td>\n",
       "      <td>1.0</td>\n",
       "      <td>3.0</td>\n",
       "      <td>4.0</td>\n",
       "      <td>2.0</td>\n",
       "      <td>3.0</td>\n",
       "      <td>3.0</td>\n",
       "    </tr>\n",
       "    <tr>\n",
       "      <th>4</th>\n",
       "      <td>3.0</td>\n",
       "      <td>1</td>\n",
       "      <td>5.0</td>\n",
       "      <td>4</td>\n",
       "      <td>3</td>\n",
       "      <td>4</td>\n",
       "      <td>1</td>\n",
       "      <td>3</td>\n",
       "      <td>2</td>\n",
       "      <td>5</td>\n",
       "      <td>...</td>\n",
       "      <td>2.0</td>\n",
       "      <td>4.0</td>\n",
       "      <td>2.0</td>\n",
       "      <td>1.0</td>\n",
       "      <td>2.0</td>\n",
       "      <td>3.0</td>\n",
       "      <td>3.0</td>\n",
       "      <td>4.0</td>\n",
       "      <td>6.0</td>\n",
       "      <td>5.0</td>\n",
       "    </tr>\n",
       "    <tr>\n",
       "      <th>5</th>\n",
       "      <td>1.0</td>\n",
       "      <td>2</td>\n",
       "      <td>2.0</td>\n",
       "      <td>3</td>\n",
       "      <td>1</td>\n",
       "      <td>5</td>\n",
       "      <td>2</td>\n",
       "      <td>2</td>\n",
       "      <td>5</td>\n",
       "      <td>2</td>\n",
       "      <td>...</td>\n",
       "      <td>2.0</td>\n",
       "      <td>3.0</td>\n",
       "      <td>1.0</td>\n",
       "      <td>1.0</td>\n",
       "      <td>1.0</td>\n",
       "      <td>5.0</td>\n",
       "      <td>5.0</td>\n",
       "      <td>2.0</td>\n",
       "      <td>3.0</td>\n",
       "      <td>3.0</td>\n",
       "    </tr>\n",
       "    <tr>\n",
       "      <th>6</th>\n",
       "      <td>2.0</td>\n",
       "      <td>2</td>\n",
       "      <td>5.0</td>\n",
       "      <td>1</td>\n",
       "      <td>5</td>\n",
       "      <td>1</td>\n",
       "      <td>5</td>\n",
       "      <td>4</td>\n",
       "      <td>3</td>\n",
       "      <td>4</td>\n",
       "      <td>...</td>\n",
       "      <td>3.0</td>\n",
       "      <td>3.0</td>\n",
       "      <td>1.0</td>\n",
       "      <td>0.0</td>\n",
       "      <td>1.0</td>\n",
       "      <td>5.0</td>\n",
       "      <td>5.0</td>\n",
       "      <td>4.0</td>\n",
       "      <td>6.0</td>\n",
       "      <td>3.0</td>\n",
       "    </tr>\n",
       "    <tr>\n",
       "      <th>7</th>\n",
       "      <td>1.0</td>\n",
       "      <td>1</td>\n",
       "      <td>3.0</td>\n",
       "      <td>3</td>\n",
       "      <td>3</td>\n",
       "      <td>4</td>\n",
       "      <td>1</td>\n",
       "      <td>3</td>\n",
       "      <td>2</td>\n",
       "      <td>5</td>\n",
       "      <td>...</td>\n",
       "      <td>3.0</td>\n",
       "      <td>3.0</td>\n",
       "      <td>1.0</td>\n",
       "      <td>0.0</td>\n",
       "      <td>1.0</td>\n",
       "      <td>4.0</td>\n",
       "      <td>4.0</td>\n",
       "      <td>2.0</td>\n",
       "      <td>5.0</td>\n",
       "      <td>2.0</td>\n",
       "    </tr>\n",
       "    <tr>\n",
       "      <th>8</th>\n",
       "      <td>3.0</td>\n",
       "      <td>1</td>\n",
       "      <td>3.0</td>\n",
       "      <td>4</td>\n",
       "      <td>4</td>\n",
       "      <td>2</td>\n",
       "      <td>4</td>\n",
       "      <td>2</td>\n",
       "      <td>2</td>\n",
       "      <td>6</td>\n",
       "      <td>...</td>\n",
       "      <td>2.0</td>\n",
       "      <td>3.0</td>\n",
       "      <td>2.0</td>\n",
       "      <td>1.0</td>\n",
       "      <td>1.0</td>\n",
       "      <td>3.0</td>\n",
       "      <td>3.0</td>\n",
       "      <td>2.0</td>\n",
       "      <td>4.0</td>\n",
       "      <td>3.0</td>\n",
       "    </tr>\n",
       "    <tr>\n",
       "      <th>9</th>\n",
       "      <td>3.0</td>\n",
       "      <td>2</td>\n",
       "      <td>4.0</td>\n",
       "      <td>2</td>\n",
       "      <td>4</td>\n",
       "      <td>2</td>\n",
       "      <td>3</td>\n",
       "      <td>5</td>\n",
       "      <td>4</td>\n",
       "      <td>1</td>\n",
       "      <td>...</td>\n",
       "      <td>2.0</td>\n",
       "      <td>3.0</td>\n",
       "      <td>2.0</td>\n",
       "      <td>1.0</td>\n",
       "      <td>1.0</td>\n",
       "      <td>3.0</td>\n",
       "      <td>3.0</td>\n",
       "      <td>2.0</td>\n",
       "      <td>3.0</td>\n",
       "      <td>1.0</td>\n",
       "    </tr>\n",
       "    <tr>\n",
       "      <th>10</th>\n",
       "      <td>3.0</td>\n",
       "      <td>2</td>\n",
       "      <td>1.0</td>\n",
       "      <td>2</td>\n",
       "      <td>2</td>\n",
       "      <td>5</td>\n",
       "      <td>3</td>\n",
       "      <td>1</td>\n",
       "      <td>5</td>\n",
       "      <td>6</td>\n",
       "      <td>...</td>\n",
       "      <td>2.0</td>\n",
       "      <td>4.0</td>\n",
       "      <td>2.0</td>\n",
       "      <td>0.0</td>\n",
       "      <td>2.0</td>\n",
       "      <td>3.0</td>\n",
       "      <td>3.0</td>\n",
       "      <td>4.0</td>\n",
       "      <td>6.0</td>\n",
       "      <td>5.0</td>\n",
       "    </tr>\n",
       "  </tbody>\n",
       "</table>\n",
       "<p>10 rows × 79 columns</p>\n",
       "</div>"
      ],
      "text/plain": [
       "    ALTERSKATEGORIE_GROB  ANREDE_KZ  CJT_GESAMTTYP  FINANZ_MINIMALIST  \\\n",
       "1                    1.0          2            5.0                  1   \n",
       "2                    3.0          2            3.0                  1   \n",
       "3                    4.0          2            2.0                  4   \n",
       "4                    3.0          1            5.0                  4   \n",
       "5                    1.0          2            2.0                  3   \n",
       "6                    2.0          2            5.0                  1   \n",
       "7                    1.0          1            3.0                  3   \n",
       "8                    3.0          1            3.0                  4   \n",
       "9                    3.0          2            4.0                  2   \n",
       "10                   3.0          2            1.0                  2   \n",
       "\n",
       "    FINANZ_SPARER  FINANZ_VORSORGER  FINANZ_ANLEGER  FINANZ_UNAUFFAELLIGER  \\\n",
       "1               5                 2               5                      4   \n",
       "2               4                 1               2                      3   \n",
       "3               2                 5               2                      1   \n",
       "4               3                 4               1                      3   \n",
       "5               1                 5               2                      2   \n",
       "6               5                 1               5                      4   \n",
       "7               3                 4               1                      3   \n",
       "8               4                 2               4                      2   \n",
       "9               4                 2               3                      5   \n",
       "10              2                 5               3                      1   \n",
       "\n",
       "    FINANZ_HAUSBAUER  FINANZTYP    ...     PLZ8_ANTG1  PLZ8_ANTG2  PLZ8_ANTG3  \\\n",
       "1                  5          1    ...            2.0         3.0         2.0   \n",
       "2                  5          1    ...            3.0         3.0         1.0   \n",
       "3                  2          6    ...            2.0         2.0         2.0   \n",
       "4                  2          5    ...            2.0         4.0         2.0   \n",
       "5                  5          2    ...            2.0         3.0         1.0   \n",
       "6                  3          4    ...            3.0         3.0         1.0   \n",
       "7                  2          5    ...            3.0         3.0         1.0   \n",
       "8                  2          6    ...            2.0         3.0         2.0   \n",
       "9                  4          1    ...            2.0         3.0         2.0   \n",
       "10                 5          6    ...            2.0         4.0         2.0   \n",
       "\n",
       "    PLZ8_ANTG4  PLZ8_BAUMAX  PLZ8_HHZ  PLZ8_GBZ  ARBEIT  ORTSGR_KLS9  RELAT_AB  \n",
       "1          1.0          1.0       5.0       4.0     3.0          5.0       4.0  \n",
       "2          0.0          1.0       4.0       4.0     3.0          5.0       2.0  \n",
       "3          0.0          1.0       3.0       4.0     2.0          3.0       3.0  \n",
       "4          1.0          2.0       3.0       3.0     4.0          6.0       5.0  \n",
       "5          1.0          1.0       5.0       5.0     2.0          3.0       3.0  \n",
       "6          0.0          1.0       5.0       5.0     4.0          6.0       3.0  \n",
       "7          0.0          1.0       4.0       4.0     2.0          5.0       2.0  \n",
       "8          1.0          1.0       3.0       3.0     2.0          4.0       3.0  \n",
       "9          1.0          1.0       3.0       3.0     2.0          3.0       1.0  \n",
       "10         0.0          2.0       3.0       3.0     4.0          6.0       5.0  \n",
       "\n",
       "[10 rows x 79 columns]"
      ]
     },
     "execution_count": 19,
     "metadata": {},
     "output_type": "execute_result"
    }
   ],
   "source": [
    "print(azdias_missing_below_threshold.shape)\n",
    "azdias_missing_below_threshold.head(10)"
   ]
  },
  {
   "cell_type": "code",
   "execution_count": 20,
   "metadata": {
    "pycharm": {
     "is_executing": false,
     "name": "#%%\n"
    }
   },
   "outputs": [
    {
     "name": "stdout",
     "output_type": "stream",
     "text": [
      "(94144, 79)\n"
     ]
    },
    {
     "data": {
      "text/html": [
       "<div>\n",
       "<style scoped>\n",
       "    .dataframe tbody tr th:only-of-type {\n",
       "        vertical-align: middle;\n",
       "    }\n",
       "\n",
       "    .dataframe tbody tr th {\n",
       "        vertical-align: top;\n",
       "    }\n",
       "\n",
       "    .dataframe thead th {\n",
       "        text-align: right;\n",
       "    }\n",
       "</style>\n",
       "<table border=\"1\" class=\"dataframe\">\n",
       "  <thead>\n",
       "    <tr style=\"text-align: right;\">\n",
       "      <th></th>\n",
       "      <th>ALTERSKATEGORIE_GROB</th>\n",
       "      <th>ANREDE_KZ</th>\n",
       "      <th>CJT_GESAMTTYP</th>\n",
       "      <th>FINANZ_MINIMALIST</th>\n",
       "      <th>FINANZ_SPARER</th>\n",
       "      <th>FINANZ_VORSORGER</th>\n",
       "      <th>FINANZ_ANLEGER</th>\n",
       "      <th>FINANZ_UNAUFFAELLIGER</th>\n",
       "      <th>FINANZ_HAUSBAUER</th>\n",
       "      <th>FINANZTYP</th>\n",
       "      <th>...</th>\n",
       "      <th>PLZ8_ANTG1</th>\n",
       "      <th>PLZ8_ANTG2</th>\n",
       "      <th>PLZ8_ANTG3</th>\n",
       "      <th>PLZ8_ANTG4</th>\n",
       "      <th>PLZ8_BAUMAX</th>\n",
       "      <th>PLZ8_HHZ</th>\n",
       "      <th>PLZ8_GBZ</th>\n",
       "      <th>ARBEIT</th>\n",
       "      <th>ORTSGR_KLS9</th>\n",
       "      <th>RELAT_AB</th>\n",
       "    </tr>\n",
       "  </thead>\n",
       "  <tbody>\n",
       "    <tr>\n",
       "      <th>0</th>\n",
       "      <td>2.0</td>\n",
       "      <td>1</td>\n",
       "      <td>2.0</td>\n",
       "      <td>3</td>\n",
       "      <td>4</td>\n",
       "      <td>3</td>\n",
       "      <td>5</td>\n",
       "      <td>5</td>\n",
       "      <td>3</td>\n",
       "      <td>4</td>\n",
       "      <td>...</td>\n",
       "      <td>NaN</td>\n",
       "      <td>NaN</td>\n",
       "      <td>NaN</td>\n",
       "      <td>NaN</td>\n",
       "      <td>NaN</td>\n",
       "      <td>NaN</td>\n",
       "      <td>NaN</td>\n",
       "      <td>NaN</td>\n",
       "      <td>NaN</td>\n",
       "      <td>NaN</td>\n",
       "    </tr>\n",
       "    <tr>\n",
       "      <th>11</th>\n",
       "      <td>2.0</td>\n",
       "      <td>1</td>\n",
       "      <td>6.0</td>\n",
       "      <td>3</td>\n",
       "      <td>4</td>\n",
       "      <td>3</td>\n",
       "      <td>5</td>\n",
       "      <td>5</td>\n",
       "      <td>3</td>\n",
       "      <td>4</td>\n",
       "      <td>...</td>\n",
       "      <td>NaN</td>\n",
       "      <td>NaN</td>\n",
       "      <td>NaN</td>\n",
       "      <td>NaN</td>\n",
       "      <td>NaN</td>\n",
       "      <td>NaN</td>\n",
       "      <td>NaN</td>\n",
       "      <td>NaN</td>\n",
       "      <td>NaN</td>\n",
       "      <td>NaN</td>\n",
       "    </tr>\n",
       "    <tr>\n",
       "      <th>14</th>\n",
       "      <td>3.0</td>\n",
       "      <td>1</td>\n",
       "      <td>6.0</td>\n",
       "      <td>3</td>\n",
       "      <td>4</td>\n",
       "      <td>3</td>\n",
       "      <td>5</td>\n",
       "      <td>5</td>\n",
       "      <td>3</td>\n",
       "      <td>4</td>\n",
       "      <td>...</td>\n",
       "      <td>NaN</td>\n",
       "      <td>NaN</td>\n",
       "      <td>NaN</td>\n",
       "      <td>NaN</td>\n",
       "      <td>NaN</td>\n",
       "      <td>NaN</td>\n",
       "      <td>NaN</td>\n",
       "      <td>NaN</td>\n",
       "      <td>NaN</td>\n",
       "      <td>NaN</td>\n",
       "    </tr>\n",
       "    <tr>\n",
       "      <th>17</th>\n",
       "      <td>2.0</td>\n",
       "      <td>1</td>\n",
       "      <td>6.0</td>\n",
       "      <td>3</td>\n",
       "      <td>4</td>\n",
       "      <td>3</td>\n",
       "      <td>5</td>\n",
       "      <td>5</td>\n",
       "      <td>3</td>\n",
       "      <td>4</td>\n",
       "      <td>...</td>\n",
       "      <td>NaN</td>\n",
       "      <td>NaN</td>\n",
       "      <td>NaN</td>\n",
       "      <td>NaN</td>\n",
       "      <td>NaN</td>\n",
       "      <td>NaN</td>\n",
       "      <td>NaN</td>\n",
       "      <td>NaN</td>\n",
       "      <td>NaN</td>\n",
       "      <td>NaN</td>\n",
       "    </tr>\n",
       "    <tr>\n",
       "      <th>24</th>\n",
       "      <td>3.0</td>\n",
       "      <td>2</td>\n",
       "      <td>6.0</td>\n",
       "      <td>3</td>\n",
       "      <td>4</td>\n",
       "      <td>3</td>\n",
       "      <td>5</td>\n",
       "      <td>5</td>\n",
       "      <td>3</td>\n",
       "      <td>4</td>\n",
       "      <td>...</td>\n",
       "      <td>NaN</td>\n",
       "      <td>NaN</td>\n",
       "      <td>NaN</td>\n",
       "      <td>NaN</td>\n",
       "      <td>NaN</td>\n",
       "      <td>NaN</td>\n",
       "      <td>NaN</td>\n",
       "      <td>NaN</td>\n",
       "      <td>NaN</td>\n",
       "      <td>NaN</td>\n",
       "    </tr>\n",
       "    <tr>\n",
       "      <th>30</th>\n",
       "      <td>3.0</td>\n",
       "      <td>2</td>\n",
       "      <td>3.0</td>\n",
       "      <td>4</td>\n",
       "      <td>3</td>\n",
       "      <td>4</td>\n",
       "      <td>4</td>\n",
       "      <td>4</td>\n",
       "      <td>1</td>\n",
       "      <td>3</td>\n",
       "      <td>...</td>\n",
       "      <td>NaN</td>\n",
       "      <td>NaN</td>\n",
       "      <td>NaN</td>\n",
       "      <td>NaN</td>\n",
       "      <td>NaN</td>\n",
       "      <td>NaN</td>\n",
       "      <td>NaN</td>\n",
       "      <td>NaN</td>\n",
       "      <td>NaN</td>\n",
       "      <td>NaN</td>\n",
       "    </tr>\n",
       "    <tr>\n",
       "      <th>35</th>\n",
       "      <td>2.0</td>\n",
       "      <td>2</td>\n",
       "      <td>2.0</td>\n",
       "      <td>3</td>\n",
       "      <td>4</td>\n",
       "      <td>3</td>\n",
       "      <td>5</td>\n",
       "      <td>5</td>\n",
       "      <td>3</td>\n",
       "      <td>4</td>\n",
       "      <td>...</td>\n",
       "      <td>NaN</td>\n",
       "      <td>NaN</td>\n",
       "      <td>NaN</td>\n",
       "      <td>NaN</td>\n",
       "      <td>NaN</td>\n",
       "      <td>NaN</td>\n",
       "      <td>NaN</td>\n",
       "      <td>NaN</td>\n",
       "      <td>NaN</td>\n",
       "      <td>NaN</td>\n",
       "    </tr>\n",
       "    <tr>\n",
       "      <th>46</th>\n",
       "      <td>NaN</td>\n",
       "      <td>2</td>\n",
       "      <td>3.0</td>\n",
       "      <td>2</td>\n",
       "      <td>4</td>\n",
       "      <td>3</td>\n",
       "      <td>5</td>\n",
       "      <td>5</td>\n",
       "      <td>4</td>\n",
       "      <td>1</td>\n",
       "      <td>...</td>\n",
       "      <td>NaN</td>\n",
       "      <td>NaN</td>\n",
       "      <td>NaN</td>\n",
       "      <td>NaN</td>\n",
       "      <td>NaN</td>\n",
       "      <td>NaN</td>\n",
       "      <td>NaN</td>\n",
       "      <td>NaN</td>\n",
       "      <td>NaN</td>\n",
       "      <td>NaN</td>\n",
       "    </tr>\n",
       "    <tr>\n",
       "      <th>48</th>\n",
       "      <td>3.0</td>\n",
       "      <td>2</td>\n",
       "      <td>6.0</td>\n",
       "      <td>3</td>\n",
       "      <td>4</td>\n",
       "      <td>3</td>\n",
       "      <td>5</td>\n",
       "      <td>5</td>\n",
       "      <td>3</td>\n",
       "      <td>4</td>\n",
       "      <td>...</td>\n",
       "      <td>NaN</td>\n",
       "      <td>NaN</td>\n",
       "      <td>NaN</td>\n",
       "      <td>NaN</td>\n",
       "      <td>NaN</td>\n",
       "      <td>NaN</td>\n",
       "      <td>NaN</td>\n",
       "      <td>NaN</td>\n",
       "      <td>NaN</td>\n",
       "      <td>NaN</td>\n",
       "    </tr>\n",
       "    <tr>\n",
       "      <th>53</th>\n",
       "      <td>2.0</td>\n",
       "      <td>1</td>\n",
       "      <td>3.0</td>\n",
       "      <td>3</td>\n",
       "      <td>4</td>\n",
       "      <td>3</td>\n",
       "      <td>5</td>\n",
       "      <td>5</td>\n",
       "      <td>3</td>\n",
       "      <td>4</td>\n",
       "      <td>...</td>\n",
       "      <td>NaN</td>\n",
       "      <td>NaN</td>\n",
       "      <td>NaN</td>\n",
       "      <td>NaN</td>\n",
       "      <td>NaN</td>\n",
       "      <td>NaN</td>\n",
       "      <td>NaN</td>\n",
       "      <td>NaN</td>\n",
       "      <td>NaN</td>\n",
       "      <td>NaN</td>\n",
       "    </tr>\n",
       "  </tbody>\n",
       "</table>\n",
       "<p>10 rows × 79 columns</p>\n",
       "</div>"
      ],
      "text/plain": [
       "    ALTERSKATEGORIE_GROB  ANREDE_KZ  CJT_GESAMTTYP  FINANZ_MINIMALIST  \\\n",
       "0                    2.0          1            2.0                  3   \n",
       "11                   2.0          1            6.0                  3   \n",
       "14                   3.0          1            6.0                  3   \n",
       "17                   2.0          1            6.0                  3   \n",
       "24                   3.0          2            6.0                  3   \n",
       "30                   3.0          2            3.0                  4   \n",
       "35                   2.0          2            2.0                  3   \n",
       "46                   NaN          2            3.0                  2   \n",
       "48                   3.0          2            6.0                  3   \n",
       "53                   2.0          1            3.0                  3   \n",
       "\n",
       "    FINANZ_SPARER  FINANZ_VORSORGER  FINANZ_ANLEGER  FINANZ_UNAUFFAELLIGER  \\\n",
       "0               4                 3               5                      5   \n",
       "11              4                 3               5                      5   \n",
       "14              4                 3               5                      5   \n",
       "17              4                 3               5                      5   \n",
       "24              4                 3               5                      5   \n",
       "30              3                 4               4                      4   \n",
       "35              4                 3               5                      5   \n",
       "46              4                 3               5                      5   \n",
       "48              4                 3               5                      5   \n",
       "53              4                 3               5                      5   \n",
       "\n",
       "    FINANZ_HAUSBAUER  FINANZTYP    ...     PLZ8_ANTG1  PLZ8_ANTG2  PLZ8_ANTG3  \\\n",
       "0                  3          4    ...            NaN         NaN         NaN   \n",
       "11                 3          4    ...            NaN         NaN         NaN   \n",
       "14                 3          4    ...            NaN         NaN         NaN   \n",
       "17                 3          4    ...            NaN         NaN         NaN   \n",
       "24                 3          4    ...            NaN         NaN         NaN   \n",
       "30                 1          3    ...            NaN         NaN         NaN   \n",
       "35                 3          4    ...            NaN         NaN         NaN   \n",
       "46                 4          1    ...            NaN         NaN         NaN   \n",
       "48                 3          4    ...            NaN         NaN         NaN   \n",
       "53                 3          4    ...            NaN         NaN         NaN   \n",
       "\n",
       "    PLZ8_ANTG4  PLZ8_BAUMAX  PLZ8_HHZ  PLZ8_GBZ  ARBEIT  ORTSGR_KLS9  RELAT_AB  \n",
       "0          NaN          NaN       NaN       NaN     NaN          NaN       NaN  \n",
       "11         NaN          NaN       NaN       NaN     NaN          NaN       NaN  \n",
       "14         NaN          NaN       NaN       NaN     NaN          NaN       NaN  \n",
       "17         NaN          NaN       NaN       NaN     NaN          NaN       NaN  \n",
       "24         NaN          NaN       NaN       NaN     NaN          NaN       NaN  \n",
       "30         NaN          NaN       NaN       NaN     NaN          NaN       NaN  \n",
       "35         NaN          NaN       NaN       NaN     NaN          NaN       NaN  \n",
       "46         NaN          NaN       NaN       NaN     NaN          NaN       NaN  \n",
       "48         NaN          NaN       NaN       NaN     NaN          NaN       NaN  \n",
       "53         NaN          NaN       NaN       NaN     NaN          NaN       NaN  \n",
       "\n",
       "[10 rows x 79 columns]"
      ]
     },
     "execution_count": 20,
     "metadata": {},
     "output_type": "execute_result"
    }
   ],
   "source": [
    "print(azdias_missing_above_threshold.shape)\n",
    "azdias_missing_above_threshold.head(10)"
   ]
  },
  {
   "cell_type": "code",
   "execution_count": 21,
   "metadata": {
    "pycharm": {
     "is_executing": false
    }
   },
   "outputs": [],
   "source": [
    "# Compare the distribution of values for at least five columns where there are\n",
    "# no or few missing values, between the two subsets."
   ]
  },
  {
   "cell_type": "code",
   "execution_count": 22,
   "metadata": {
    "pycharm": {
     "is_executing": false,
     "name": "#%%\n"
    }
   },
   "outputs": [],
   "source": [
    "def compare_distribution(df, col, df_missing_below_threshold, df_missing_above_threshold):\n",
    "    fig = plt.figure(figsize=(20, 10))\n",
    "    ax1 = fig.add_subplot(121)\n",
    "    ax1.title.set_text('Missing Counts Above Threshold')\n",
    "    sns.countplot(df_missing_above_threshold[col])\n",
    "\n",
    "    ax2 = fig.add_subplot(122)\n",
    "    ax2.title.set_text('Missing Counts Below Threshold')\n",
    "    sns.countplot(df_missing_below_threshold[col])\n",
    "\n",
    "    fig.suptitle(col)\n",
    "    plt.show();"
   ]
  },
  {
   "cell_type": "code",
   "execution_count": 23,
   "metadata": {
    "pycharm": {
     "is_executing": false,
     "name": "#%%\n"
    }
   },
   "outputs": [
    {
     "data": {
      "image/png": "[encoded data removed]",
      "text/plain": [
       "<matplotlib.figure.Figure at 0x7ff413be08d0>"
      ]
     },
     "metadata": {
      "needs_background": "light"
     },
     "output_type": "display_data"
    },
    {
     "data": {
      "image/png": "[encoded data removed]",
      "text/plain": [
       "<matplotlib.figure.Figure at 0x7ff413adae80>"
      ]
     },
     "metadata": {
      "needs_background": "light"
     },
     "output_type": "display_data"
    },
    {
     "data": {
      "image/png": "[encoded data removed]",
      "text/plain": [
       "<matplotlib.figure.Figure at 0x7ff413b88b38>"
      ]
     },
     "metadata": {
      "needs_background": "light"
     },
     "output_type": "display_data"
    },
    {
     "data": {
      "image/png": "[encoded data removed]",
      "text/plain": [
       "<matplotlib.figure.Figure at 0x7ff4139715f8>"
      ]
     },
     "metadata": {
      "needs_background": "light"
     },
     "output_type": "display_data"
    },
    {
     "data": {
      "image/png": "[encoded data removed]",
      "text/plain": [
       "<matplotlib.figure.Figure at 0x7ff413aebe80>"
      ]
     },
     "metadata": {
      "needs_background": "light"
     },
     "output_type": "display_data"
    }
   ],
   "source": [
    "np.random.seed(368)\n",
    "compared_cols = np.random.choice(azdias.columns, 5).tolist()\n",
    "for col in compared_cols:\n",
    "    compare_distribution(azdias, col, azdias_missing_below_threshold, azdias_missing_above_threshold)"
   ]
  },
  {
   "cell_type": "code",
   "execution_count": 24,
   "metadata": {
    "pycharm": {
     "is_executing": false,
     "name": "#%%\n"
    }
   },
   "outputs": [
    {
     "data": {
      "text/plain": [
       "['KKK', 'SEMIO_PFLICHT', 'SEMIO_SOZ', 'MOBI_REGIO', 'KBA05_ANTG1']"
      ]
     },
     "execution_count": 24,
     "metadata": {},
     "output_type": "execute_result"
    }
   ],
   "source": [
    "compared_cols"
   ]
  },
  {
   "cell_type": "markdown",
   "metadata": {},
   "source": [
    "#### Discussion 1.1.3: Assess Missing Data in Each Row\n",
    "\n",
    "(Double-click this cell and replace this text with your own text, reporting your observations regarding missing data in rows. Are the data with lots of missing values are qualitatively different from data with few or no missing values?)\n",
    "\n",
    "The dataset is divided into two subsets: One with each row having less than 20 missing values ('azdias_missing_below_threshold'), and one with each row having 20 or more missing values ('azdias_missing_above_threshold).\n",
    "\n",
    "Five columns are randomly picked from the dataset: KKK, SEMIO_PFLICHT, SEMIO_SOZ, MOBI_REGIO, KBA05_ANTG1.\n",
    "\n",
    "As shown in the charts comparing the distributions above, it is observed that between the 2 subsets:\n",
    "\n",
    "- 4 out of 5 columns have significantly different distributions: SEMIO_PFLICHT, SEMIO_SOZ, MOBI_REGIO and KBA05_ANTG1.\n",
    "- 1 out of 5 columns have similar distributions: KKK.\n",
    "\n",
    "Conclusion: Only the 'azdias_missing_below_threshold' (no or few missing values) subset should be used for future analysis, learning and prediction."
   ]
  },
  {
   "cell_type": "code",
   "execution_count": 25,
   "metadata": {
    "pycharm": {
     "is_executing": false,
     "name": "#%%\n"
    }
   },
   "outputs": [
    {
     "data": {
      "text/plain": [
       "(797077, 79)"
      ]
     },
     "execution_count": 25,
     "metadata": {},
     "output_type": "execute_result"
    }
   ],
   "source": [
    "azdias_subset = azdias_missing_below_threshold.copy()\n",
    "azdias_subset.shape"
   ]
  },
  {
   "cell_type": "markdown",
   "metadata": {},
   "source": [
    "### Step 1.2: Select and Re-Encode Features\n",
    "\n",
    "Checking for missing data isn't the only way in which you can prepare a dataset for analysis. Since the unsupervised learning techniques to be used will only work on data that is encoded numerically, you need to make a few encoding changes or additional assumptions to be able to make progress. In addition, while almost all of the values in the dataset are encoded using numbers, not all of them represent numeric values. Check the third column of the feature summary (`feat_info`) for a summary of types of measurement.\n",
    "- For numeric and interval data, these features can be kept without changes.\n",
    "- Most of the variables in the dataset are ordinal in nature. While ordinal values may technically be non-linear in spacing, make the simplifying assumption that the ordinal variables can be treated as being interval in nature (that is, kept without any changes).\n",
    "- Special handling may be necessary for the remaining two variable types: categorical, and 'mixed'.\n",
    "\n",
    "In the first two parts of this sub-step, you will perform an investigation of the categorical and mixed-type features and make a decision on each of them, whether you will keep, drop, or re-encode each. Then, in the last part, you will create a new data frame with only the selected and engineered columns.\n",
    "\n",
    "Data wrangling is often the trickiest part of the data analysis process, and there's a lot of it to be done here. But stick with it: once you're done with this step, you'll be ready to get to the machine learning parts of the project!"
   ]
  },
  {
   "cell_type": "code",
   "execution_count": 26,
   "metadata": {
    "pycharm": {
     "is_executing": false
    }
   },
   "outputs": [
    {
     "data": {
      "text/plain": [
       "ordinal        49\n",
       "categorical    18\n",
       "numeric         6\n",
       "mixed           6\n",
       "Name: type, dtype: int64"
      ]
     },
     "execution_count": 26,
     "metadata": {},
     "output_type": "execute_result"
    }
   ],
   "source": [
    "# How many features are there of each data type?\n",
    "feat_info.type.value_counts()"
   ]
  },
  {
   "cell_type": "markdown",
   "metadata": {},
   "source": [
    "#### Step 1.2.1: Re-Encode Categorical Features\n",
    "\n",
    "For categorical data, you would ordinarily need to encode the levels as dummy variables. Depending on the number of categories, perform one of the following:\n",
    "- For binary (two-level) categoricals that take numeric values, you can keep them without needing to do anything.\n",
    "- There is one binary variable that takes on non-numeric values. For this one, you need to re-encode the values as numbers or create a dummy variable.\n",
    "- For multi-level categoricals (three or more values), you can choose to encode the values using multiple dummy variables (e.g. via [OneHotEncoder](http://scikit-learn.org/stable/modules/generated/sklearn.preprocessing.OneHotEncoder.html)), or (to keep things straightforward) just drop them from the analysis. As always, document your choices in the Discussion section."
   ]
  },
  {
   "cell_type": "code",
   "execution_count": 27,
   "metadata": {
    "pycharm": {
     "is_executing": false
    }
   },
   "outputs": [],
   "source": [
    "# Assess categorical variables: which are binary, which are multi-level, and\n",
    "# which one needs to be re-encoded?"
   ]
  },
  {
   "cell_type": "code",
   "execution_count": 28,
   "metadata": {
    "pycharm": {
     "is_executing": false,
     "name": "#%%\n"
    }
   },
   "outputs": [
    {
     "name": "stdout",
     "output_type": "stream",
     "text": [
      "2            ANREDE_KZ\n",
      "3        CJT_GESAMTTYP\n",
      "10           FINANZTYP\n",
      "12     GFK_URLAUBERTYP\n",
      "13    GREEN_AVANTGARDE\n",
      "17     LP_FAMILIE_FEIN\n",
      "18     LP_FAMILIE_GROB\n",
      "19      LP_STATUS_FEIN\n",
      "20      LP_STATUS_GROB\n",
      "21    NATIONALITAET_KZ\n",
      "38         SHOPPER_TYP\n",
      "39             SOHO_KZ\n",
      "41            VERS_TYP\n",
      "42            ZABEOTYP\n",
      "52         GEBAEUDETYP\n",
      "55         OST_WEST_KZ\n",
      "57     CAMEO_DEUG_2015\n",
      "58      CAMEO_DEU_2015\n",
      "Name: attribute, dtype: object\n"
     ]
    }
   ],
   "source": [
    "categorical_features = feat_info.loc[feat_info['type'] == 'categorical', 'attribute']\n",
    "print(categorical_features)"
   ]
  },
  {
   "cell_type": "code",
   "execution_count": 29,
   "metadata": {
    "pycharm": {
     "is_executing": false,
     "name": "#%%\n"
    }
   },
   "outputs": [],
   "source": [
    "categorical_features_multi = []\n",
    "categorical_features_binary = []\n",
    "for feature in categorical_features:\n",
    "    if azdias_subset[feature].nunique() > 2:\n",
    "        categorical_features_multi.append(feature)\n",
    "    else:\n",
    "        categorical_features_binary.append(feature)"
   ]
  },
  {
   "cell_type": "code",
   "execution_count": 30,
   "metadata": {
    "pycharm": {
     "is_executing": false
    }
   },
   "outputs": [],
   "source": [
    "# Re-encode categorical variable(s) to be kept in the analysis."
   ]
  },
  {
   "cell_type": "code",
   "execution_count": 31,
   "metadata": {
    "pycharm": {
     "is_executing": false,
     "name": "#%%\n"
    }
   },
   "outputs": [
    {
     "name": "stdout",
     "output_type": "stream",
     "text": [
      "\n",
      "2    415578\n",
      "1    381499\n",
      "Name: ANREDE_KZ, dtype: int64\n",
      "\n",
      "0    621942\n",
      "1    175135\n",
      "Name: GREEN_AVANTGARDE, dtype: int64\n",
      "\n",
      "0.0    790370\n",
      "1.0      6707\n",
      "Name: SOHO_KZ, dtype: int64\n",
      "\n",
      "2.0    394116\n",
      "1.0    366623\n",
      "Name: VERS_TYP, dtype: int64\n",
      "\n",
      "W    628695\n",
      "O    168382\n",
      "Name: OST_WEST_KZ, dtype: int64\n"
     ]
    }
   ],
   "source": [
    "for feat in categorical_features_binary:\n",
    "    print()\n",
    "    print(azdias_subset[feat].value_counts())"
   ]
  },
  {
   "cell_type": "code",
   "execution_count": 32,
   "metadata": {
    "pycharm": {
     "is_executing": false,
     "name": "#%%\n"
    }
   },
   "outputs": [
    {
     "name": "stdout",
     "output_type": "stream",
     "text": [
      "\n",
      "1    415578\n",
      "0    381499\n",
      "Name: ANREDE_KZ, dtype: int64\n",
      "\n",
      "0    621942\n",
      "1    175135\n",
      "Name: GREEN_AVANTGARDE, dtype: int64\n",
      "\n",
      "0.0    790370\n",
      "1.0      6707\n",
      "Name: SOHO_KZ, dtype: int64\n",
      "\n",
      "1.0    394116\n",
      "0.0    366623\n",
      "Name: VERS_TYP, dtype: int64\n",
      "\n",
      "1    628695\n",
      "0    168382\n",
      "Name: OST_WEST_KZ, dtype: int64\n"
     ]
    }
   ],
   "source": [
    "azdias_subset['ANREDE_KZ'].replace([2, 1], [1, 0], inplace=True)\n",
    "azdias_subset['VERS_TYP'].replace([2.0, 1.0], [1, 0], inplace=True)\n",
    "azdias_subset['OST_WEST_KZ'].replace(['W', 'O'], [1, 0], inplace=True)\n",
    "\n",
    "for feat in categorical_features_binary:\n",
    "    print()\n",
    "    print(azdias_subset[feat].value_counts())"
   ]
  },
  {
   "cell_type": "code",
   "execution_count": 33,
   "metadata": {
    "pycharm": {
     "is_executing": false,
     "name": "#%%\n"
    }
   },
   "outputs": [
    {
     "name": "stdout",
     "output_type": "stream",
     "text": [
      "\n",
      "4.0    198089\n",
      "3.0    147068\n",
      "2.0    141166\n",
      "5.0    111032\n",
      "6.0    101898\n",
      "1.0     93192\n",
      "Name: CJT_GESAMTTYP, dtype: int64\n",
      "\n",
      "6    289004\n",
      "1    196805\n",
      "5    106220\n",
      "2    104577\n",
      "4     55874\n",
      "3     44597\n",
      "Name: FINANZTYP, dtype: int64\n",
      "\n",
      "12.0    129983\n",
      "10.0    102748\n",
      "8.0      82992\n",
      "11.0     75051\n",
      "5.0      70468\n",
      "4.0      60413\n",
      "9.0      57046\n",
      "3.0      53094\n",
      "1.0      50640\n",
      "2.0      43647\n",
      "7.0      40642\n",
      "6.0      25721\n",
      "Name: GFK_URLAUBERTYP, dtype: int64\n",
      "\n",
      "1.0     402248\n",
      "10.0    128902\n",
      "2.0      98491\n",
      "11.0     48727\n",
      "8.0      21777\n",
      "7.0      19568\n",
      "4.0      11573\n",
      "5.0      11164\n",
      "9.0      10451\n",
      "6.0       8512\n",
      "3.0       4682\n",
      "Name: LP_FAMILIE_FEIN, dtype: int64\n",
      "\n",
      "1.0    402248\n",
      "5.0    188080\n",
      "2.0     98491\n",
      "4.0     49857\n",
      "3.0     27419\n",
      "Name: LP_FAMILIE_GROB, dtype: int64\n",
      "\n",
      "1.0     206766\n",
      "9.0     136229\n",
      "10.0    111538\n",
      "2.0     111016\n",
      "4.0      73938\n",
      "3.0      68893\n",
      "6.0      28870\n",
      "5.0      27472\n",
      "8.0      18525\n",
      "7.0       9198\n",
      "Name: LP_STATUS_FEIN, dtype: int64\n",
      "\n",
      "1.0    317782\n",
      "2.0    170303\n",
      "4.0    154754\n",
      "5.0    111538\n",
      "3.0     38068\n",
      "Name: LP_STATUS_GROB, dtype: int64\n",
      "\n",
      "1.0    667356\n",
      "2.0     63619\n",
      "3.0     32537\n",
      "Name: NATIONALITAET_KZ, dtype: int64\n",
      "\n",
      "1.0    247152\n",
      "2.0    205874\n",
      "3.0    180604\n",
      "0.0    127109\n",
      "Name: SHOPPER_TYP, dtype: int64\n",
      "\n",
      "3    281772\n",
      "4    207383\n",
      "1    123270\n",
      "5     80892\n",
      "6     70817\n",
      "2     32943\n",
      "Name: ZABEOTYP, dtype: int64\n",
      "\n",
      "1.0    459844\n",
      "3.0    178507\n",
      "8.0    152439\n",
      "2.0      4789\n",
      "4.0       885\n",
      "6.0       612\n",
      "5.0         1\n",
      "Name: GEBAEUDETYP, dtype: int64\n",
      "\n",
      "8    134394\n",
      "9    108138\n",
      "6    105819\n",
      "4    103814\n",
      "3     86612\n",
      "2     83149\n",
      "7     77888\n",
      "5     55216\n",
      "1     36180\n",
      "Name: CAMEO_DEUG_2015, dtype: int64\n",
      "\n",
      "6B    56642\n",
      "8A    52427\n",
      "4C    47765\n",
      "2D    35047\n",
      "3C    34740\n",
      "7A    34384\n",
      "3D    34275\n",
      "8B    33424\n",
      "4A    33128\n",
      "8C    30978\n",
      "9D    28591\n",
      "9B    27661\n",
      "9C    24986\n",
      "7B    24489\n",
      "9A    20537\n",
      "2C    19408\n",
      "8D    17565\n",
      "6E    16104\n",
      "2B    15468\n",
      "5D    14934\n",
      "6C    14815\n",
      "2A    13226\n",
      "5A    12153\n",
      "1D    11908\n",
      "1A    10837\n",
      "3A    10454\n",
      "5B    10345\n",
      "5C     9926\n",
      "7C     9059\n",
      "4B     9038\n",
      "4D     8565\n",
      "3B     7143\n",
      "6A     6799\n",
      "9E     6363\n",
      "6D     6068\n",
      "6F     5391\n",
      "7D     5329\n",
      "4E     5318\n",
      "1E     5057\n",
      "7E     4627\n",
      "1C     4310\n",
      "5F     4281\n",
      "1B     4068\n",
      "5E     3577\n",
      "Name: CAMEO_DEU_2015, dtype: int64\n"
     ]
    }
   ],
   "source": [
    "for feat in categorical_features_multi:\n",
    "    print()\n",
    "    print(azdias_subset[feat].value_counts())"
   ]
  },
  {
   "cell_type": "code",
   "execution_count": 34,
   "metadata": {
    "pycharm": {
     "is_executing": false,
     "name": "#%%\n"
    },
    "scrolled": true
   },
   "outputs": [
    {
     "name": "stdout",
     "output_type": "stream",
     "text": [
      "(797077, 194)\n"
     ]
    },
    {
     "data": {
      "text/html": [
       "<div>\n",
       "<style scoped>\n",
       "    .dataframe tbody tr th:only-of-type {\n",
       "        vertical-align: middle;\n",
       "    }\n",
       "\n",
       "    .dataframe tbody tr th {\n",
       "        vertical-align: top;\n",
       "    }\n",
       "\n",
       "    .dataframe thead th {\n",
       "        text-align: right;\n",
       "    }\n",
       "</style>\n",
       "<table border=\"1\" class=\"dataframe\">\n",
       "  <thead>\n",
       "    <tr style=\"text-align: right;\">\n",
       "      <th></th>\n",
       "      <th>ALTERSKATEGORIE_GROB</th>\n",
       "      <th>ANREDE_KZ</th>\n",
       "      <th>FINANZ_MINIMALIST</th>\n",
       "      <th>FINANZ_SPARER</th>\n",
       "      <th>FINANZ_VORSORGER</th>\n",
       "      <th>FINANZ_ANLEGER</th>\n",
       "      <th>FINANZ_UNAUFFAELLIGER</th>\n",
       "      <th>FINANZ_HAUSBAUER</th>\n",
       "      <th>GREEN_AVANTGARDE</th>\n",
       "      <th>HEALTH_TYP</th>\n",
       "      <th>...</th>\n",
       "      <th>CAMEO_DEU_2015_7E</th>\n",
       "      <th>CAMEO_DEU_2015_8A</th>\n",
       "      <th>CAMEO_DEU_2015_8B</th>\n",
       "      <th>CAMEO_DEU_2015_8C</th>\n",
       "      <th>CAMEO_DEU_2015_8D</th>\n",
       "      <th>CAMEO_DEU_2015_9A</th>\n",
       "      <th>CAMEO_DEU_2015_9B</th>\n",
       "      <th>CAMEO_DEU_2015_9C</th>\n",
       "      <th>CAMEO_DEU_2015_9D</th>\n",
       "      <th>CAMEO_DEU_2015_9E</th>\n",
       "    </tr>\n",
       "  </thead>\n",
       "  <tbody>\n",
       "    <tr>\n",
       "      <th>1</th>\n",
       "      <td>1.0</td>\n",
       "      <td>1</td>\n",
       "      <td>1</td>\n",
       "      <td>5</td>\n",
       "      <td>2</td>\n",
       "      <td>5</td>\n",
       "      <td>4</td>\n",
       "      <td>5</td>\n",
       "      <td>0</td>\n",
       "      <td>3.0</td>\n",
       "      <td>...</td>\n",
       "      <td>0</td>\n",
       "      <td>1</td>\n",
       "      <td>0</td>\n",
       "      <td>0</td>\n",
       "      <td>0</td>\n",
       "      <td>0</td>\n",
       "      <td>0</td>\n",
       "      <td>0</td>\n",
       "      <td>0</td>\n",
       "      <td>0</td>\n",
       "    </tr>\n",
       "    <tr>\n",
       "      <th>2</th>\n",
       "      <td>3.0</td>\n",
       "      <td>1</td>\n",
       "      <td>1</td>\n",
       "      <td>4</td>\n",
       "      <td>1</td>\n",
       "      <td>2</td>\n",
       "      <td>3</td>\n",
       "      <td>5</td>\n",
       "      <td>1</td>\n",
       "      <td>3.0</td>\n",
       "      <td>...</td>\n",
       "      <td>0</td>\n",
       "      <td>0</td>\n",
       "      <td>0</td>\n",
       "      <td>0</td>\n",
       "      <td>0</td>\n",
       "      <td>0</td>\n",
       "      <td>0</td>\n",
       "      <td>0</td>\n",
       "      <td>0</td>\n",
       "      <td>0</td>\n",
       "    </tr>\n",
       "    <tr>\n",
       "      <th>3</th>\n",
       "      <td>4.0</td>\n",
       "      <td>1</td>\n",
       "      <td>4</td>\n",
       "      <td>2</td>\n",
       "      <td>5</td>\n",
       "      <td>2</td>\n",
       "      <td>1</td>\n",
       "      <td>2</td>\n",
       "      <td>0</td>\n",
       "      <td>2.0</td>\n",
       "      <td>...</td>\n",
       "      <td>0</td>\n",
       "      <td>0</td>\n",
       "      <td>0</td>\n",
       "      <td>0</td>\n",
       "      <td>0</td>\n",
       "      <td>0</td>\n",
       "      <td>0</td>\n",
       "      <td>0</td>\n",
       "      <td>0</td>\n",
       "      <td>0</td>\n",
       "    </tr>\n",
       "    <tr>\n",
       "      <th>4</th>\n",
       "      <td>3.0</td>\n",
       "      <td>0</td>\n",
       "      <td>4</td>\n",
       "      <td>3</td>\n",
       "      <td>4</td>\n",
       "      <td>1</td>\n",
       "      <td>3</td>\n",
       "      <td>2</td>\n",
       "      <td>0</td>\n",
       "      <td>3.0</td>\n",
       "      <td>...</td>\n",
       "      <td>0</td>\n",
       "      <td>0</td>\n",
       "      <td>0</td>\n",
       "      <td>0</td>\n",
       "      <td>0</td>\n",
       "      <td>0</td>\n",
       "      <td>0</td>\n",
       "      <td>0</td>\n",
       "      <td>0</td>\n",
       "      <td>0</td>\n",
       "    </tr>\n",
       "    <tr>\n",
       "      <th>5</th>\n",
       "      <td>1.0</td>\n",
       "      <td>1</td>\n",
       "      <td>3</td>\n",
       "      <td>1</td>\n",
       "      <td>5</td>\n",
       "      <td>2</td>\n",
       "      <td>2</td>\n",
       "      <td>5</td>\n",
       "      <td>0</td>\n",
       "      <td>3.0</td>\n",
       "      <td>...</td>\n",
       "      <td>0</td>\n",
       "      <td>0</td>\n",
       "      <td>0</td>\n",
       "      <td>1</td>\n",
       "      <td>0</td>\n",
       "      <td>0</td>\n",
       "      <td>0</td>\n",
       "      <td>0</td>\n",
       "      <td>0</td>\n",
       "      <td>0</td>\n",
       "    </tr>\n",
       "    <tr>\n",
       "      <th>6</th>\n",
       "      <td>2.0</td>\n",
       "      <td>1</td>\n",
       "      <td>1</td>\n",
       "      <td>5</td>\n",
       "      <td>1</td>\n",
       "      <td>5</td>\n",
       "      <td>4</td>\n",
       "      <td>3</td>\n",
       "      <td>0</td>\n",
       "      <td>2.0</td>\n",
       "      <td>...</td>\n",
       "      <td>0</td>\n",
       "      <td>0</td>\n",
       "      <td>0</td>\n",
       "      <td>0</td>\n",
       "      <td>0</td>\n",
       "      <td>0</td>\n",
       "      <td>0</td>\n",
       "      <td>0</td>\n",
       "      <td>0</td>\n",
       "      <td>0</td>\n",
       "    </tr>\n",
       "    <tr>\n",
       "      <th>7</th>\n",
       "      <td>1.0</td>\n",
       "      <td>0</td>\n",
       "      <td>3</td>\n",
       "      <td>3</td>\n",
       "      <td>4</td>\n",
       "      <td>1</td>\n",
       "      <td>3</td>\n",
       "      <td>2</td>\n",
       "      <td>0</td>\n",
       "      <td>1.0</td>\n",
       "      <td>...</td>\n",
       "      <td>0</td>\n",
       "      <td>0</td>\n",
       "      <td>0</td>\n",
       "      <td>0</td>\n",
       "      <td>0</td>\n",
       "      <td>0</td>\n",
       "      <td>0</td>\n",
       "      <td>0</td>\n",
       "      <td>0</td>\n",
       "      <td>0</td>\n",
       "    </tr>\n",
       "    <tr>\n",
       "      <th>8</th>\n",
       "      <td>3.0</td>\n",
       "      <td>0</td>\n",
       "      <td>4</td>\n",
       "      <td>4</td>\n",
       "      <td>2</td>\n",
       "      <td>4</td>\n",
       "      <td>2</td>\n",
       "      <td>2</td>\n",
       "      <td>1</td>\n",
       "      <td>3.0</td>\n",
       "      <td>...</td>\n",
       "      <td>0</td>\n",
       "      <td>0</td>\n",
       "      <td>0</td>\n",
       "      <td>0</td>\n",
       "      <td>0</td>\n",
       "      <td>0</td>\n",
       "      <td>0</td>\n",
       "      <td>0</td>\n",
       "      <td>0</td>\n",
       "      <td>0</td>\n",
       "    </tr>\n",
       "    <tr>\n",
       "      <th>9</th>\n",
       "      <td>3.0</td>\n",
       "      <td>1</td>\n",
       "      <td>2</td>\n",
       "      <td>4</td>\n",
       "      <td>2</td>\n",
       "      <td>3</td>\n",
       "      <td>5</td>\n",
       "      <td>4</td>\n",
       "      <td>1</td>\n",
       "      <td>2.0</td>\n",
       "      <td>...</td>\n",
       "      <td>0</td>\n",
       "      <td>0</td>\n",
       "      <td>0</td>\n",
       "      <td>0</td>\n",
       "      <td>0</td>\n",
       "      <td>0</td>\n",
       "      <td>0</td>\n",
       "      <td>0</td>\n",
       "      <td>0</td>\n",
       "      <td>0</td>\n",
       "    </tr>\n",
       "    <tr>\n",
       "      <th>10</th>\n",
       "      <td>3.0</td>\n",
       "      <td>1</td>\n",
       "      <td>2</td>\n",
       "      <td>2</td>\n",
       "      <td>5</td>\n",
       "      <td>3</td>\n",
       "      <td>1</td>\n",
       "      <td>5</td>\n",
       "      <td>0</td>\n",
       "      <td>2.0</td>\n",
       "      <td>...</td>\n",
       "      <td>0</td>\n",
       "      <td>0</td>\n",
       "      <td>0</td>\n",
       "      <td>0</td>\n",
       "      <td>0</td>\n",
       "      <td>0</td>\n",
       "      <td>0</td>\n",
       "      <td>0</td>\n",
       "      <td>1</td>\n",
       "      <td>0</td>\n",
       "    </tr>\n",
       "  </tbody>\n",
       "</table>\n",
       "<p>10 rows × 194 columns</p>\n",
       "</div>"
      ],
      "text/plain": [
       "    ALTERSKATEGORIE_GROB  ANREDE_KZ  FINANZ_MINIMALIST  FINANZ_SPARER  \\\n",
       "1                    1.0          1                  1              5   \n",
       "2                    3.0          1                  1              4   \n",
       "3                    4.0          1                  4              2   \n",
       "4                    3.0          0                  4              3   \n",
       "5                    1.0          1                  3              1   \n",
       "6                    2.0          1                  1              5   \n",
       "7                    1.0          0                  3              3   \n",
       "8                    3.0          0                  4              4   \n",
       "9                    3.0          1                  2              4   \n",
       "10                   3.0          1                  2              2   \n",
       "\n",
       "    FINANZ_VORSORGER  FINANZ_ANLEGER  FINANZ_UNAUFFAELLIGER  FINANZ_HAUSBAUER  \\\n",
       "1                  2               5                      4                 5   \n",
       "2                  1               2                      3                 5   \n",
       "3                  5               2                      1                 2   \n",
       "4                  4               1                      3                 2   \n",
       "5                  5               2                      2                 5   \n",
       "6                  1               5                      4                 3   \n",
       "7                  4               1                      3                 2   \n",
       "8                  2               4                      2                 2   \n",
       "9                  2               3                      5                 4   \n",
       "10                 5               3                      1                 5   \n",
       "\n",
       "    GREEN_AVANTGARDE  HEALTH_TYP        ...          CAMEO_DEU_2015_7E  \\\n",
       "1                  0         3.0        ...                          0   \n",
       "2                  1         3.0        ...                          0   \n",
       "3                  0         2.0        ...                          0   \n",
       "4                  0         3.0        ...                          0   \n",
       "5                  0         3.0        ...                          0   \n",
       "6                  0         2.0        ...                          0   \n",
       "7                  0         1.0        ...                          0   \n",
       "8                  1         3.0        ...                          0   \n",
       "9                  1         2.0        ...                          0   \n",
       "10                 0         2.0        ...                          0   \n",
       "\n",
       "    CAMEO_DEU_2015_8A  CAMEO_DEU_2015_8B  CAMEO_DEU_2015_8C  \\\n",
       "1                   1                  0                  0   \n",
       "2                   0                  0                  0   \n",
       "3                   0                  0                  0   \n",
       "4                   0                  0                  0   \n",
       "5                   0                  0                  1   \n",
       "6                   0                  0                  0   \n",
       "7                   0                  0                  0   \n",
       "8                   0                  0                  0   \n",
       "9                   0                  0                  0   \n",
       "10                  0                  0                  0   \n",
       "\n",
       "    CAMEO_DEU_2015_8D  CAMEO_DEU_2015_9A  CAMEO_DEU_2015_9B  \\\n",
       "1                   0                  0                  0   \n",
       "2                   0                  0                  0   \n",
       "3                   0                  0                  0   \n",
       "4                   0                  0                  0   \n",
       "5                   0                  0                  0   \n",
       "6                   0                  0                  0   \n",
       "7                   0                  0                  0   \n",
       "8                   0                  0                  0   \n",
       "9                   0                  0                  0   \n",
       "10                  0                  0                  0   \n",
       "\n",
       "    CAMEO_DEU_2015_9C  CAMEO_DEU_2015_9D  CAMEO_DEU_2015_9E  \n",
       "1                   0                  0                  0  \n",
       "2                   0                  0                  0  \n",
       "3                   0                  0                  0  \n",
       "4                   0                  0                  0  \n",
       "5                   0                  0                  0  \n",
       "6                   0                  0                  0  \n",
       "7                   0                  0                  0  \n",
       "8                   0                  0                  0  \n",
       "9                   0                  0                  0  \n",
       "10                  0                  1                  0  \n",
       "\n",
       "[10 rows x 194 columns]"
      ]
     },
     "execution_count": 34,
     "metadata": {},
     "output_type": "execute_result"
    }
   ],
   "source": [
    "azdias_subset = pd.get_dummies(azdias_subset, columns=categorical_features_multi)\n",
    "\n",
    "print(azdias_subset.shape)\n",
    "azdias_subset.head(10)"
   ]
  },
  {
   "cell_type": "markdown",
   "metadata": {},
   "source": [
    "#### Discussion 1.2.1: Re-Encode Categorical Features\n",
    "\n",
    "(Double-click this cell and replace this text with your own text, reporting your findings and decisions regarding categorical features. Which ones did you keep, which did you drop, and what engineering steps did you perform?)\n",
    "\n",
    "There are 2 groups of categorical features identified:\n",
    "\n",
    "- Binary categorical: \n",
    "    - 5 features: ANREDE_KZ, GREEN_AVANTGARDE, SOHO_KZ, VERS_TYP, OST_WEST_KZ.\n",
    "    - GREEN_AVANTGARDE and SOHO_KZ are already in standard binary codes (1s and 0s), thus are kept the same.\n",
    "    - ANREDE_KZ, VERS_TYP and OST_WEST_KZ values have been replaced with 1s and 0s. \n",
    "    \n",
    "- Multi categorical:\n",
    "    - 13 features: CJT_GESAMTTYP, FINANZTYP, GFK_URLAUBERTYP, LP_FAMILIE_FEIN, LP_FAMILIE_GROB, LP_STATUS_FEIN, LP_STATUS_GROB, NATIONALITAET_KZ, SHOPPER_TYP, ZABEOTYP, GEBAEUDETYP, CAMEO_DEUG_2015, CAMEO_DEU_2015.\n",
    "    - All of them have been one-hot encoded into dummy features.   "
   ]
  },
  {
   "cell_type": "markdown",
   "metadata": {},
   "source": [
    "#### Step 1.2.2: Engineer Mixed-Type Features\n",
    "\n",
    "There are a handful of features that are marked as \"mixed\" in the feature summary that require special treatment in order to be included in the analysis. There are two in particular that deserve attention; the handling of the rest are up to your own choices:\n",
    "- \"PRAEGENDE_JUGENDJAHRE\" combines information on three dimensions: generation by decade, movement (mainstream vs. avantgarde), and nation (east vs. west). While there aren't enough levels to disentangle east from west, you should create two new variables to capture the other two dimensions: an interval-type variable for decade, and a binary variable for movement.\n",
    "- \"CAMEO_INTL_2015\" combines information on two axes: wealth and life stage. Break up the two-digit codes by their 'tens'-place and 'ones'-place digits into two new ordinal variables (which, for the purposes of this project, is equivalent to just treating them as their raw numeric values).\n",
    "- If you decide to keep or engineer new features around the other mixed-type features, make sure you note your steps in the Discussion section.\n",
    "\n",
    "Be sure to check `Data_Dictionary.md` for the details needed to finish these tasks."
   ]
  },
  {
   "cell_type": "code",
   "execution_count": 35,
   "metadata": {
    "pycharm": {
     "is_executing": false,
     "name": "#%%\n"
    }
   },
   "outputs": [
    {
     "name": "stdout",
     "output_type": "stream",
     "text": [
      "15      LP_LEBENSPHASE_FEIN\n",
      "16      LP_LEBENSPHASE_GROB\n",
      "22    PRAEGENDE_JUGENDJAHRE\n",
      "56                 WOHNLAGE\n",
      "59          CAMEO_INTL_2015\n",
      "79              PLZ8_BAUMAX\n",
      "Name: attribute, dtype: object\n"
     ]
    }
   ],
   "source": [
    "mixed_features = feat_info.loc[feat_info['type'] == 'mixed', 'attribute']\n",
    "print(mixed_features)"
   ]
  },
  {
   "cell_type": "code",
   "execution_count": 36,
   "metadata": {
    "pycharm": {
     "is_executing": false,
     "name": "#%%\n"
    }
   },
   "outputs": [
    {
     "name": "stdout",
     "output_type": "stream",
     "text": [
      "\n",
      "1.0     58718\n",
      "5.0     52399\n",
      "6.0     43324\n",
      "2.0     37146\n",
      "8.0     28831\n",
      "11.0    25356\n",
      "7.0     24947\n",
      "29.0    24879\n",
      "13.0    24810\n",
      "10.0    24458\n",
      "31.0    22260\n",
      "12.0    22214\n",
      "30.0    21145\n",
      "15.0    18963\n",
      "3.0     18752\n",
      "19.0    18575\n",
      "37.0    17500\n",
      "4.0     16477\n",
      "14.0    16350\n",
      "20.0    16285\n",
      "32.0    15761\n",
      "39.0    15131\n",
      "40.0    14108\n",
      "27.0    13795\n",
      "16.0    13632\n",
      "38.0    13088\n",
      "35.0    13011\n",
      "34.0    12421\n",
      "9.0     12109\n",
      "21.0    11965\n",
      "28.0    11543\n",
      "24.0    11308\n",
      "25.0     9843\n",
      "36.0     9654\n",
      "23.0     8624\n",
      "22.0     6830\n",
      "18.0     6802\n",
      "33.0     5722\n",
      "17.0     5486\n",
      "26.0     3368\n",
      "Name: LP_LEBENSPHASE_FEIN, dtype: int64\n",
      "\n",
      "2.0     149501\n",
      "1.0     131093\n",
      "3.0     109528\n",
      "12.0     69481\n",
      "4.0      51172\n",
      "5.0      47148\n",
      "9.0      46024\n",
      "10.0     38021\n",
      "11.0     31154\n",
      "8.0      28706\n",
      "6.0      27419\n",
      "7.0      21151\n",
      "Name: LP_LEBENSPHASE_GROB, dtype: int64\n",
      "\n",
      "14.0    182833\n",
      "8.0     141504\n",
      "10.0     85746\n",
      "5.0      84649\n",
      "3.0      53811\n",
      "15.0     42500\n",
      "11.0     35729\n",
      "9.0      33560\n",
      "6.0      25649\n",
      "12.0     24436\n",
      "1.0      20639\n",
      "4.0      20450\n",
      "2.0       7479\n",
      "13.0      5759\n",
      "7.0       4009\n",
      "Name: PRAEGENDE_JUGENDJAHRE, dtype: int64\n",
      "\n",
      "3.0    249537\n",
      "7.0    169238\n",
      "4.0    135867\n",
      "2.0    100303\n",
      "5.0     74274\n",
      "1.0     43876\n",
      "8.0     17356\n",
      "0.0      6626\n",
      "Name: WOHNLAGE, dtype: int64\n",
      "\n",
      "51    133665\n",
      "41     92297\n",
      "24     91070\n",
      "14     62833\n",
      "43     56642\n",
      "54     45366\n",
      "25     39593\n",
      "22     33128\n",
      "23     26635\n",
      "13     26305\n",
      "45     26122\n",
      "55     23928\n",
      "52     20537\n",
      "31     18952\n",
      "34     18511\n",
      "15     16965\n",
      "44     14815\n",
      "12     13226\n",
      "35     10349\n",
      "32     10345\n",
      "33      9926\n",
      "Name: CAMEO_INTL_2015, dtype: int64\n",
      "\n",
      "1.0    499540\n",
      "5.0     97333\n",
      "2.0     70406\n",
      "4.0     56684\n",
      "3.0     50732\n",
      "Name: PLZ8_BAUMAX, dtype: int64\n"
     ]
    }
   ],
   "source": [
    "for feat in mixed_features:\n",
    "    print()\n",
    "    print(azdias_subset[feat].value_counts())"
   ]
  },
  {
   "cell_type": "code",
   "execution_count": 37,
   "metadata": {
    "pycharm": {
     "is_executing": false
    }
   },
   "outputs": [],
   "source": [
    "# Investigate \"PRAEGENDE_JUGENDJAHRE\" and engineer two new variables."
   ]
  },
  {
   "cell_type": "code",
   "execution_count": 38,
   "metadata": {
    "pycharm": {
     "is_executing": false,
     "name": "#%%\n"
    }
   },
   "outputs": [
    {
     "data": {
      "text/plain": [
       "14.0    182833\n",
       "8.0     141504\n",
       "10.0     85746\n",
       "5.0      84649\n",
       "3.0      53811\n",
       "15.0     42500\n",
       "11.0     35729\n",
       "9.0      33560\n",
       "6.0      25649\n",
       "12.0     24436\n",
       "1.0      20639\n",
       "4.0      20450\n",
       "2.0       7479\n",
       "13.0      5759\n",
       "7.0       4009\n",
       "Name: PRAEGENDE_JUGENDJAHRE, dtype: int64"
      ]
     },
     "execution_count": 38,
     "metadata": {},
     "output_type": "execute_result"
    }
   ],
   "source": [
    "azdias_subset['PRAEGENDE_JUGENDJAHRE'].value_counts()"
   ]
  },
  {
   "cell_type": "code",
   "execution_count": 39,
   "metadata": {
    "pycharm": {
     "is_executing": false,
     "name": "#%%\n"
    }
   },
   "outputs": [],
   "source": [
    "def new_feature(df, existing_feature, map):\n",
    "    return df[existing_feature].replace(map)"
   ]
  },
  {
   "cell_type": "code",
   "execution_count": 40,
   "metadata": {
    "pycharm": {
     "is_executing": false,
     "name": "#%%\n"
    }
   },
   "outputs": [],
   "source": [
    "decade_map = {\n",
    "    1: 0, 2: 0,\n",
    "    3: 1, 4: 1,\n",
    "    5: 2, 6: 2, 7: 2,\n",
    "    8: 3, 9: 3,\n",
    "    10: 4, 11: 4, 12: 4, 13: 4,\n",
    "    14: 5, 15: 5\n",
    "}\n",
    "\n",
    "movement_map = { \n",
    "    1:0, 2:1, 3:0, 4:1, 5:0, \n",
    "    6:1, 7:1, 8:0, 9:1, 10:0, \n",
    "    11:1, 12:0, 13:1, 14:0, 15:1 \n",
    "}"
   ]
  },
  {
   "cell_type": "code",
   "execution_count": 41,
   "metadata": {},
   "outputs": [
    {
     "data": {
      "text/plain": [
       "(797077, 196)"
      ]
     },
     "execution_count": 41,
     "metadata": {},
     "output_type": "execute_result"
    }
   ],
   "source": [
    "azdias_subset[\"PRAEGENDE_JUGENDJAHRE_DECADE\"] = new_feature(azdias_subset, \"PRAEGENDE_JUGENDJAHRE\", decade_map)\n",
    "azdias_subset[\"PRAEGENDE_JUGENDJAHRE_MOVEMENT\"] = new_feature(azdias_subset, \"PRAEGENDE_JUGENDJAHRE\", movement_map)\n",
    "azdias_subset.shape"
   ]
  },
  {
   "cell_type": "code",
   "execution_count": 42,
   "metadata": {
    "pycharm": {
     "is_executing": false
    }
   },
   "outputs": [],
   "source": [
    "# Investigate \"CAMEO_INTL_2015\" and engineer two new variables."
   ]
  },
  {
   "cell_type": "code",
   "execution_count": 43,
   "metadata": {},
   "outputs": [
    {
     "data": {
      "text/plain": [
       "51    133665\n",
       "41     92297\n",
       "24     91070\n",
       "14     62833\n",
       "43     56642\n",
       "54     45366\n",
       "25     39593\n",
       "22     33128\n",
       "23     26635\n",
       "13     26305\n",
       "45     26122\n",
       "55     23928\n",
       "52     20537\n",
       "31     18952\n",
       "34     18511\n",
       "15     16965\n",
       "44     14815\n",
       "12     13226\n",
       "35     10349\n",
       "32     10345\n",
       "33      9926\n",
       "Name: CAMEO_INTL_2015, dtype: int64"
      ]
     },
     "execution_count": 43,
     "metadata": {},
     "output_type": "execute_result"
    }
   ],
   "source": [
    "azdias_subset['CAMEO_INTL_2015'].value_counts()"
   ]
  },
  {
   "cell_type": "code",
   "execution_count": null,
   "metadata": {},
   "outputs": [],
   "source": []
  },
  {
   "cell_type": "code",
   "execution_count": null,
   "metadata": {},
   "outputs": [],
   "source": []
  },
  {
   "cell_type": "code",
   "execution_count": 44,
   "metadata": {},
   "outputs": [
    {
     "name": "stdout",
     "output_type": "stream",
     "text": [
      "(797077, 198)\n"
     ]
    }
   ],
   "source": [
    "azdias_subset['CAMEO_INTL_2015_WEALTH'] = azdias_subset['CAMEO_INTL_2015'].apply(lambda row: np.nan if pd.isnull(row) else int(int(row) / 10))\n",
    "azdias_subset['CAMEO_INTL_2015_LIFESTAGE'] = azdias_subset['CAMEO_INTL_2015'].apply(lambda row: np.nan if pd.isnull(row) else int(int(row) % 10))\n",
    "print(azdias_subset.shape)"
   ]
  },
  {
   "cell_type": "markdown",
   "metadata": {},
   "source": [
    "#### Discussion 1.2.2: Engineer Mixed-Type Features\n",
    "\n",
    "(Double-click this cell and replace this text with your own text, reporting your findings and decisions regarding mixed-value features. Which ones did you keep, which did you drop, and what engineering steps did you perform?)\n",
    "\n",
    "- Mixed features kept:\n",
    "    - PRAEGENDE_JUGENDJAHRE has been engineered into 2 features: PRAEGENDE_JUGENDJAHRE_DECADE and PRAEGENDE_JUGENDJAHRE_MOVEMENT.\n",
    "    - CAMEO_INTL_2015 has been engineered into 2 features: CAMEO_INTL_2015_WEALTH and CAMEO_INTL_2015_LIFESTAGE.\n",
    "\n",
    "- All engineered features and other mixed features will be dropped in the next cells.\n"
   ]
  },
  {
   "cell_type": "markdown",
   "metadata": {},
   "source": [
    "#### Step 1.2.3: Complete Feature Selection\n",
    "\n",
    "In order to finish this step up, you need to make sure that your data frame now only has the columns that you want to keep. To summarize, the dataframe should consist of the following:\n",
    "- All numeric, interval, and ordinal type columns from the original dataset.\n",
    "- Binary categorical features (all numerically-encoded).\n",
    "- Engineered features from other multi-level categorical features and mixed features.\n",
    "\n",
    "Make sure that for any new columns that you have engineered, that you've excluded the original columns from the final dataset. Otherwise, their values will interfere with the analysis later on the project. For example, you should not keep \"PRAEGENDE_JUGENDJAHRE\", since its values won't be useful for the algorithm: only the values derived from it in the engineered features you created should be retained. As a reminder, your data should only be from **the subset with few or no missing values**."
   ]
  },
  {
   "cell_type": "code",
   "execution_count": 45,
   "metadata": {
    "pycharm": {
     "is_executing": false
    }
   },
   "outputs": [],
   "source": [
    "# If there are other re-engineering tasks you need to perform, make sure you\n",
    "# take care of them here. (Dealing with missing data will come in step 2.1.)"
   ]
  },
  {
   "cell_type": "code",
   "execution_count": 46,
   "metadata": {
    "pycharm": {
     "is_executing": false
    }
   },
   "outputs": [
    {
     "data": {
      "text/plain": [
       "(797077, 192)"
      ]
     },
     "execution_count": 46,
     "metadata": {},
     "output_type": "execute_result"
    }
   ],
   "source": [
    "# Do whatever you need to in order to ensure that the dataframe only contains\n",
    "# the columns that should be passed to the algorithm functions.\n",
    "\n",
    "azdias_subset = azdias_subset.drop(mixed_features, axis=1)\n",
    "azdias_subset.shape"
   ]
  },
  {
   "cell_type": "code",
   "execution_count": 47,
   "metadata": {},
   "outputs": [
    {
     "data": {
      "text/html": [
       "<div>\n",
       "<style scoped>\n",
       "    .dataframe tbody tr th:only-of-type {\n",
       "        vertical-align: middle;\n",
       "    }\n",
       "\n",
       "    .dataframe tbody tr th {\n",
       "        vertical-align: top;\n",
       "    }\n",
       "\n",
       "    .dataframe thead th {\n",
       "        text-align: right;\n",
       "    }\n",
       "</style>\n",
       "<table border=\"1\" class=\"dataframe\">\n",
       "  <thead>\n",
       "    <tr style=\"text-align: right;\">\n",
       "      <th></th>\n",
       "      <th>ALTERSKATEGORIE_GROB</th>\n",
       "      <th>ANREDE_KZ</th>\n",
       "      <th>FINANZ_MINIMALIST</th>\n",
       "      <th>FINANZ_SPARER</th>\n",
       "      <th>FINANZ_VORSORGER</th>\n",
       "      <th>FINANZ_ANLEGER</th>\n",
       "      <th>FINANZ_UNAUFFAELLIGER</th>\n",
       "      <th>FINANZ_HAUSBAUER</th>\n",
       "      <th>GREEN_AVANTGARDE</th>\n",
       "      <th>HEALTH_TYP</th>\n",
       "      <th>...</th>\n",
       "      <th>CAMEO_DEU_2015_8D</th>\n",
       "      <th>CAMEO_DEU_2015_9A</th>\n",
       "      <th>CAMEO_DEU_2015_9B</th>\n",
       "      <th>CAMEO_DEU_2015_9C</th>\n",
       "      <th>CAMEO_DEU_2015_9D</th>\n",
       "      <th>CAMEO_DEU_2015_9E</th>\n",
       "      <th>PRAEGENDE_JUGENDJAHRE_DECADE</th>\n",
       "      <th>PRAEGENDE_JUGENDJAHRE_MOVEMENT</th>\n",
       "      <th>CAMEO_INTL_2015_WEALTH</th>\n",
       "      <th>CAMEO_INTL_2015_LIFESTAGE</th>\n",
       "    </tr>\n",
       "  </thead>\n",
       "  <tbody>\n",
       "    <tr>\n",
       "      <th>1</th>\n",
       "      <td>1.0</td>\n",
       "      <td>1</td>\n",
       "      <td>1</td>\n",
       "      <td>5</td>\n",
       "      <td>2</td>\n",
       "      <td>5</td>\n",
       "      <td>4</td>\n",
       "      <td>5</td>\n",
       "      <td>0</td>\n",
       "      <td>3.0</td>\n",
       "      <td>...</td>\n",
       "      <td>0</td>\n",
       "      <td>0</td>\n",
       "      <td>0</td>\n",
       "      <td>0</td>\n",
       "      <td>0</td>\n",
       "      <td>0</td>\n",
       "      <td>5.0</td>\n",
       "      <td>0.0</td>\n",
       "      <td>5.0</td>\n",
       "      <td>1.0</td>\n",
       "    </tr>\n",
       "    <tr>\n",
       "      <th>2</th>\n",
       "      <td>3.0</td>\n",
       "      <td>1</td>\n",
       "      <td>1</td>\n",
       "      <td>4</td>\n",
       "      <td>1</td>\n",
       "      <td>2</td>\n",
       "      <td>3</td>\n",
       "      <td>5</td>\n",
       "      <td>1</td>\n",
       "      <td>3.0</td>\n",
       "      <td>...</td>\n",
       "      <td>0</td>\n",
       "      <td>0</td>\n",
       "      <td>0</td>\n",
       "      <td>0</td>\n",
       "      <td>0</td>\n",
       "      <td>0</td>\n",
       "      <td>5.0</td>\n",
       "      <td>1.0</td>\n",
       "      <td>2.0</td>\n",
       "      <td>4.0</td>\n",
       "    </tr>\n",
       "    <tr>\n",
       "      <th>3</th>\n",
       "      <td>4.0</td>\n",
       "      <td>1</td>\n",
       "      <td>4</td>\n",
       "      <td>2</td>\n",
       "      <td>5</td>\n",
       "      <td>2</td>\n",
       "      <td>1</td>\n",
       "      <td>2</td>\n",
       "      <td>0</td>\n",
       "      <td>2.0</td>\n",
       "      <td>...</td>\n",
       "      <td>0</td>\n",
       "      <td>0</td>\n",
       "      <td>0</td>\n",
       "      <td>0</td>\n",
       "      <td>0</td>\n",
       "      <td>0</td>\n",
       "      <td>3.0</td>\n",
       "      <td>0.0</td>\n",
       "      <td>1.0</td>\n",
       "      <td>2.0</td>\n",
       "    </tr>\n",
       "    <tr>\n",
       "      <th>4</th>\n",
       "      <td>3.0</td>\n",
       "      <td>0</td>\n",
       "      <td>4</td>\n",
       "      <td>3</td>\n",
       "      <td>4</td>\n",
       "      <td>1</td>\n",
       "      <td>3</td>\n",
       "      <td>2</td>\n",
       "      <td>0</td>\n",
       "      <td>3.0</td>\n",
       "      <td>...</td>\n",
       "      <td>0</td>\n",
       "      <td>0</td>\n",
       "      <td>0</td>\n",
       "      <td>0</td>\n",
       "      <td>0</td>\n",
       "      <td>0</td>\n",
       "      <td>3.0</td>\n",
       "      <td>0.0</td>\n",
       "      <td>4.0</td>\n",
       "      <td>3.0</td>\n",
       "    </tr>\n",
       "    <tr>\n",
       "      <th>5</th>\n",
       "      <td>1.0</td>\n",
       "      <td>1</td>\n",
       "      <td>3</td>\n",
       "      <td>1</td>\n",
       "      <td>5</td>\n",
       "      <td>2</td>\n",
       "      <td>2</td>\n",
       "      <td>5</td>\n",
       "      <td>0</td>\n",
       "      <td>3.0</td>\n",
       "      <td>...</td>\n",
       "      <td>0</td>\n",
       "      <td>0</td>\n",
       "      <td>0</td>\n",
       "      <td>0</td>\n",
       "      <td>0</td>\n",
       "      <td>0</td>\n",
       "      <td>1.0</td>\n",
       "      <td>0.0</td>\n",
       "      <td>5.0</td>\n",
       "      <td>4.0</td>\n",
       "    </tr>\n",
       "    <tr>\n",
       "      <th>6</th>\n",
       "      <td>2.0</td>\n",
       "      <td>1</td>\n",
       "      <td>1</td>\n",
       "      <td>5</td>\n",
       "      <td>1</td>\n",
       "      <td>5</td>\n",
       "      <td>4</td>\n",
       "      <td>3</td>\n",
       "      <td>0</td>\n",
       "      <td>2.0</td>\n",
       "      <td>...</td>\n",
       "      <td>0</td>\n",
       "      <td>0</td>\n",
       "      <td>0</td>\n",
       "      <td>0</td>\n",
       "      <td>0</td>\n",
       "      <td>0</td>\n",
       "      <td>4.0</td>\n",
       "      <td>0.0</td>\n",
       "      <td>2.0</td>\n",
       "      <td>2.0</td>\n",
       "    </tr>\n",
       "    <tr>\n",
       "      <th>7</th>\n",
       "      <td>1.0</td>\n",
       "      <td>0</td>\n",
       "      <td>3</td>\n",
       "      <td>3</td>\n",
       "      <td>4</td>\n",
       "      <td>1</td>\n",
       "      <td>3</td>\n",
       "      <td>2</td>\n",
       "      <td>0</td>\n",
       "      <td>1.0</td>\n",
       "      <td>...</td>\n",
       "      <td>0</td>\n",
       "      <td>0</td>\n",
       "      <td>0</td>\n",
       "      <td>0</td>\n",
       "      <td>0</td>\n",
       "      <td>0</td>\n",
       "      <td>3.0</td>\n",
       "      <td>0.0</td>\n",
       "      <td>1.0</td>\n",
       "      <td>4.0</td>\n",
       "    </tr>\n",
       "    <tr>\n",
       "      <th>8</th>\n",
       "      <td>3.0</td>\n",
       "      <td>0</td>\n",
       "      <td>4</td>\n",
       "      <td>4</td>\n",
       "      <td>2</td>\n",
       "      <td>4</td>\n",
       "      <td>2</td>\n",
       "      <td>2</td>\n",
       "      <td>1</td>\n",
       "      <td>3.0</td>\n",
       "      <td>...</td>\n",
       "      <td>0</td>\n",
       "      <td>0</td>\n",
       "      <td>0</td>\n",
       "      <td>0</td>\n",
       "      <td>0</td>\n",
       "      <td>0</td>\n",
       "      <td>4.0</td>\n",
       "      <td>1.0</td>\n",
       "      <td>1.0</td>\n",
       "      <td>3.0</td>\n",
       "    </tr>\n",
       "    <tr>\n",
       "      <th>9</th>\n",
       "      <td>3.0</td>\n",
       "      <td>1</td>\n",
       "      <td>2</td>\n",
       "      <td>4</td>\n",
       "      <td>2</td>\n",
       "      <td>3</td>\n",
       "      <td>5</td>\n",
       "      <td>4</td>\n",
       "      <td>1</td>\n",
       "      <td>2.0</td>\n",
       "      <td>...</td>\n",
       "      <td>0</td>\n",
       "      <td>0</td>\n",
       "      <td>0</td>\n",
       "      <td>0</td>\n",
       "      <td>0</td>\n",
       "      <td>0</td>\n",
       "      <td>5.0</td>\n",
       "      <td>1.0</td>\n",
       "      <td>1.0</td>\n",
       "      <td>5.0</td>\n",
       "    </tr>\n",
       "    <tr>\n",
       "      <th>10</th>\n",
       "      <td>3.0</td>\n",
       "      <td>1</td>\n",
       "      <td>2</td>\n",
       "      <td>2</td>\n",
       "      <td>5</td>\n",
       "      <td>3</td>\n",
       "      <td>1</td>\n",
       "      <td>5</td>\n",
       "      <td>0</td>\n",
       "      <td>2.0</td>\n",
       "      <td>...</td>\n",
       "      <td>0</td>\n",
       "      <td>0</td>\n",
       "      <td>0</td>\n",
       "      <td>0</td>\n",
       "      <td>1</td>\n",
       "      <td>0</td>\n",
       "      <td>1.0</td>\n",
       "      <td>0.0</td>\n",
       "      <td>5.0</td>\n",
       "      <td>1.0</td>\n",
       "    </tr>\n",
       "  </tbody>\n",
       "</table>\n",
       "<p>10 rows × 192 columns</p>\n",
       "</div>"
      ],
      "text/plain": [
       "    ALTERSKATEGORIE_GROB  ANREDE_KZ  FINANZ_MINIMALIST  FINANZ_SPARER  \\\n",
       "1                    1.0          1                  1              5   \n",
       "2                    3.0          1                  1              4   \n",
       "3                    4.0          1                  4              2   \n",
       "4                    3.0          0                  4              3   \n",
       "5                    1.0          1                  3              1   \n",
       "6                    2.0          1                  1              5   \n",
       "7                    1.0          0                  3              3   \n",
       "8                    3.0          0                  4              4   \n",
       "9                    3.0          1                  2              4   \n",
       "10                   3.0          1                  2              2   \n",
       "\n",
       "    FINANZ_VORSORGER  FINANZ_ANLEGER  FINANZ_UNAUFFAELLIGER  FINANZ_HAUSBAUER  \\\n",
       "1                  2               5                      4                 5   \n",
       "2                  1               2                      3                 5   \n",
       "3                  5               2                      1                 2   \n",
       "4                  4               1                      3                 2   \n",
       "5                  5               2                      2                 5   \n",
       "6                  1               5                      4                 3   \n",
       "7                  4               1                      3                 2   \n",
       "8                  2               4                      2                 2   \n",
       "9                  2               3                      5                 4   \n",
       "10                 5               3                      1                 5   \n",
       "\n",
       "    GREEN_AVANTGARDE  HEALTH_TYP            ...              \\\n",
       "1                  0         3.0            ...               \n",
       "2                  1         3.0            ...               \n",
       "3                  0         2.0            ...               \n",
       "4                  0         3.0            ...               \n",
       "5                  0         3.0            ...               \n",
       "6                  0         2.0            ...               \n",
       "7                  0         1.0            ...               \n",
       "8                  1         3.0            ...               \n",
       "9                  1         2.0            ...               \n",
       "10                 0         2.0            ...               \n",
       "\n",
       "    CAMEO_DEU_2015_8D  CAMEO_DEU_2015_9A  CAMEO_DEU_2015_9B  \\\n",
       "1                   0                  0                  0   \n",
       "2                   0                  0                  0   \n",
       "3                   0                  0                  0   \n",
       "4                   0                  0                  0   \n",
       "5                   0                  0                  0   \n",
       "6                   0                  0                  0   \n",
       "7                   0                  0                  0   \n",
       "8                   0                  0                  0   \n",
       "9                   0                  0                  0   \n",
       "10                  0                  0                  0   \n",
       "\n",
       "    CAMEO_DEU_2015_9C  CAMEO_DEU_2015_9D  CAMEO_DEU_2015_9E  \\\n",
       "1                   0                  0                  0   \n",
       "2                   0                  0                  0   \n",
       "3                   0                  0                  0   \n",
       "4                   0                  0                  0   \n",
       "5                   0                  0                  0   \n",
       "6                   0                  0                  0   \n",
       "7                   0                  0                  0   \n",
       "8                   0                  0                  0   \n",
       "9                   0                  0                  0   \n",
       "10                  0                  1                  0   \n",
       "\n",
       "    PRAEGENDE_JUGENDJAHRE_DECADE  PRAEGENDE_JUGENDJAHRE_MOVEMENT  \\\n",
       "1                            5.0                             0.0   \n",
       "2                            5.0                             1.0   \n",
       "3                            3.0                             0.0   \n",
       "4                            3.0                             0.0   \n",
       "5                            1.0                             0.0   \n",
       "6                            4.0                             0.0   \n",
       "7                            3.0                             0.0   \n",
       "8                            4.0                             1.0   \n",
       "9                            5.0                             1.0   \n",
       "10                           1.0                             0.0   \n",
       "\n",
       "    CAMEO_INTL_2015_WEALTH  CAMEO_INTL_2015_LIFESTAGE  \n",
       "1                      5.0                        1.0  \n",
       "2                      2.0                        4.0  \n",
       "3                      1.0                        2.0  \n",
       "4                      4.0                        3.0  \n",
       "5                      5.0                        4.0  \n",
       "6                      2.0                        2.0  \n",
       "7                      1.0                        4.0  \n",
       "8                      1.0                        3.0  \n",
       "9                      1.0                        5.0  \n",
       "10                     5.0                        1.0  \n",
       "\n",
       "[10 rows x 192 columns]"
      ]
     },
     "execution_count": 47,
     "metadata": {},
     "output_type": "execute_result"
    }
   ],
   "source": [
    "azdias_subset.head(10)"
   ]
  },
  {
   "cell_type": "markdown",
   "metadata": {},
   "source": [
    "### Step 1.3: Create a Cleaning Function\n",
    "\n",
    "Even though you've finished cleaning up the general population demographics data, it's important to look ahead to the future and realize that you'll need to perform the same cleaning steps on the customer demographics data. In this substep, complete the function below to execute the main feature selection, encoding, and re-engineering steps you performed above. Then, when it comes to looking at the customer data in Step 3, you can just run this function on that DataFrame to get the trimmed dataset in a single step."
   ]
  },
  {
   "cell_type": "code",
   "execution_count": 91,
   "metadata": {
    "pycharm": {
     "is_executing": false
    }
   },
   "outputs": [],
   "source": [
    "def clean_data(df, feat_info, features_to_drop, missing_count_threshold_for_rows, \n",
    "               decade_map, movement_map):\n",
    "    \"\"\"\n",
    "    Perform feature trimming, re-encoding, and engineering for demographics\n",
    "    data\n",
    "    \n",
    "    INPUT: Demographics DataFrame\n",
    "    OUTPUT: Trimmed and cleaned demographics DataFrame\n",
    "    \"\"\"\n",
    "    # Put in code here to execute all main cleaning steps:\n",
    "    # convert missing value codes into NaNs, ...\n",
    "    df = replace_with_NaN(df, feat_info)\n",
    "\n",
    "    # remove selected columns, ...\n",
    "    df.drop(features_to_drop['attribute'], axis=1, inplace = True) \n",
    "    feat_info = feat_info.loc[~feat_info['attribute'].isin(features_to_drop['attribute'].tolist())]\n",
    "\n",
    "    # remove selected rows, ...\n",
    "    df, df_missing_above_threshold = split(df, missing_count_threshold_for_rows)\n",
    "    \n",
    "    # select, re-encode, and engineer column values.\n",
    "    categorical_features = feat_info.loc[feat_info['type'] == 'categorical', 'attribute']\n",
    "    categorical_features_multi = []\n",
    "    categorical_features_binary = []\n",
    "    for feature in categorical_features:\n",
    "        if df[feature].nunique() > 2:\n",
    "            categorical_features_multi.append(feature)\n",
    "        else:\n",
    "            categorical_features_binary.append(feature)\n",
    "        \n",
    "    df['ANREDE_KZ'].replace([2, 1], [1, 0], inplace=True)\n",
    "    df['VERS_TYP'].replace([2.0, 1.0], [1, 0], inplace=True)\n",
    "    df['OST_WEST_KZ'].replace(['W', 'O'], [1, 0], inplace=True)\n",
    "\n",
    "    df = pd.get_dummies(df, columns=categorical_features_multi)\n",
    "\n",
    "    mixed_features = feat_info.loc[feat_info['type'] == 'mixed', 'attribute']\n",
    "    df[\"PRAEGENDE_JUGENDJAHRE_DECADE\"] = new_feature(df, \"PRAEGENDE_JUGENDJAHRE\", decade_map)\n",
    "    df[\"PRAEGENDE_JUGENDJAHRE_MOVEMENT\"] = new_feature(df, \"PRAEGENDE_JUGENDJAHRE\", movement_map)\n",
    "    df['CAMEO_INTL_2015_WEALTH'] = df['CAMEO_INTL_2015'].apply(lambda row: np.nan if pd.isnull(row) else int(int(row) / 10))\n",
    "    df['CAMEO_INTL_2015_LIFESTAGE'] = df['CAMEO_INTL_2015'].apply(lambda row: np.nan if pd.isnull(row) else int(int(row) % 10))        \n",
    "\n",
    "    df = df.drop(mixed_features, axis=1)\n",
    "    \n",
    "    # Return the cleaned dataframe.\n",
    "    return df, df_missing_above_threshold"
   ]
  },
  {
   "cell_type": "markdown",
   "metadata": {},
   "source": [
    "## Step 2: Feature Transformation\n",
    "\n",
    "### Step 2.1: Apply Feature Scaling\n",
    "\n",
    "Before we apply dimensionality reduction techniques to the data, we need to perform feature scaling so that the principal component vectors are not influenced by the natural differences in scale for features. Starting from this part of the project, you'll want to keep an eye on the [API reference page for sklearn](http://scikit-learn.org/stable/modules/classes.html) to help you navigate to all of the classes and functions that you'll need. In this substep, you'll need to check the following:\n",
    "\n",
    "- sklearn requires that data not have missing values in order for its estimators to work properly. So, before applying the scaler to your data, make sure that you've cleaned the DataFrame of the remaining missing values. This can be as simple as just removing all data points with missing data, or applying an [Imputer](http://scikit-learn.org/stable/modules/generated/sklearn.preprocessing.Imputer.html) to replace all missing values. You might also try a more complicated procedure where you temporarily remove missing values in order to compute the scaling parameters before re-introducing those missing values and applying imputation. Think about how much missing data you have and what possible effects each approach might have on your analysis, and justify your decision in the discussion section below.\n",
    "- For the actual scaling function, a [StandardScaler](http://scikit-learn.org/stable/modules/generated/sklearn.preprocessing.StandardScaler.html) instance is suggested, scaling each feature to mean 0 and standard deviation 1.\n",
    "- For these classes, you can make use of the `.fit_transform()` method to both fit a procedure to the data as well as apply the transformation to the data at the same time. Don't forget to keep the fit sklearn objects handy, since you'll be applying them to the customer demographics data towards the end of the project."
   ]
  },
  {
   "cell_type": "code",
   "execution_count": 49,
   "metadata": {
    "pycharm": {
     "is_executing": false
    }
   },
   "outputs": [],
   "source": [
    "# If you've not yet cleaned the dataset of all NaN values, then investigate and\n",
    "# do that now.\n",
    "\n",
    "imputer = Imputer()\n",
    "azdias_subset = pd.DataFrame(imputer.fit_transform(azdias_subset), columns=azdias_subset.columns)"
   ]
  },
  {
   "cell_type": "code",
   "execution_count": 50,
   "metadata": {
    "pycharm": {
     "is_executing": false
    }
   },
   "outputs": [
    {
     "data": {
      "text/plain": [
       "array([[-1.7655962 ,  0.95812115, -1.49446342, ..., -0.55308218,\n",
       "         1.19069553, -1.26598078],\n",
       "       [ 0.20144832,  0.95812115, -1.49446342, ...,  1.87466549,\n",
       "        -0.8653183 ,  0.76184899],\n",
       "       [ 1.18497057,  0.95812115,  0.68328531, ..., -0.55308218,\n",
       "        -1.55065625, -0.59003752],\n",
       "       ..., \n",
       "       [-0.78207394,  0.95812115, -0.76854718, ..., -0.55308218,\n",
       "        -0.8653183 ,  0.76184899],\n",
       "       [-1.7655962 , -1.04370935, -1.49446342, ..., -0.55308218,\n",
       "         1.19069553, -1.26598078],\n",
       "       [ 1.18497057, -1.04370935,  0.68328531, ..., -0.55308218,\n",
       "         0.50535759,  0.08590573]])"
      ]
     },
     "execution_count": 50,
     "metadata": {},
     "output_type": "execute_result"
    }
   ],
   "source": [
    "# Apply feature scaling to the general population demographics data.\n",
    "\n",
    "scaler = StandardScaler()\n",
    "azdias_subset_scaled = scaler.fit_transform(azdias_subset)\n",
    "azdias_subset_scaled"
   ]
  },
  {
   "cell_type": "markdown",
   "metadata": {},
   "source": [
    "### Discussion 2.1: Apply Feature Scaling\n",
    "\n",
    "(Double-click this cell and replace this text with your own text, reporting your decisions regarding feature scaling.)\n",
    "\n",
    "- All remaining rows with missing data have been imputed by sklearn.preprocessing.Imputer - default strategy: mean.\n",
    "- All features have been scaled with mean of 0 and standard deviation of 1 by StandardScaler."
   ]
  },
  {
   "cell_type": "markdown",
   "metadata": {},
   "source": [
    "### Step 2.2: Perform Dimensionality Reduction\n",
    "\n",
    "On your scaled data, you are now ready to apply dimensionality reduction techniques.\n",
    "\n",
    "- Use sklearn's [PCA](http://scikit-learn.org/stable/modules/generated/sklearn.decomposition.PCA.html) class to apply principal component analysis on the data, thus finding the vectors of maximal variance in the data. To start, you should not set any parameters (so all components are computed) or set a number of components that is at least half the number of features (so there's enough features to see the general trend in variability).\n",
    "- Check out the ratio of variance explained by each principal component as well as the cumulative variance explained. Try plotting the cumulative or sequential values using matplotlib's [`plot()`](https://matplotlib.org/api/_as_gen/matplotlib.pyplot.plot.html) function. Based on what you find, select a value for the number of transformed features you'll retain for the clustering part of the project.\n",
    "- Once you've made a choice for the number of components to keep, make sure you re-fit a PCA instance to perform the decided-on transformation."
   ]
  },
  {
   "cell_type": "code",
   "execution_count": 51,
   "metadata": {},
   "outputs": [],
   "source": [
    "def scree_plot(pca):\n",
    "    '''\n",
    "    Creates a scree plot associated with the principal components \n",
    "    \n",
    "    INPUT: pca - the result of instantian of PCA in scikit learn\n",
    "            \n",
    "    OUTPUT:\n",
    "            None\n",
    "    '''\n",
    "    num_components=len(pca.explained_variance_ratio_)\n",
    "    ind = np.arange(num_components)\n",
    "    vals = pca.explained_variance_ratio_ * 100\n",
    " \n",
    "    plt.figure(figsize=(10, 6))\n",
    "    ax = plt.subplot(111)\n",
    "    cumvals = np.cumsum(vals)\n",
    "    ax.bar(ind, vals)\n",
    "    ax.plot(ind, cumvals)\n",
    "    ax.xaxis.set_tick_params(width=0)\n",
    "    ax.yaxis.set_tick_params(width=2, length=12)\n",
    " \n",
    "    ax.set_xlabel(\"Principal Component\")\n",
    "    ax.set_ylabel(\"Variance Explained (%)\")\n",
    "    plt.title('Explained Variance Per Principal Component')"
   ]
  },
  {
   "cell_type": "code",
   "execution_count": 52,
   "metadata": {
    "pycharm": {
     "is_executing": false
    }
   },
   "outputs": [],
   "source": [
    "# Apply PCA to the data.\n",
    "\n",
    "pca = PCA()\n",
    "azdias_pca = pca.fit_transform(azdias_subset_scaled)"
   ]
  },
  {
   "cell_type": "code",
   "execution_count": 53,
   "metadata": {
    "pycharm": {
     "is_executing": false
    }
   },
   "outputs": [
    {
     "data": {
      "image/png": "[encoded data removed]",
      "text/plain": [
       "<matplotlib.figure.Figure at 0x7ff4137cf320>"
      ]
     },
     "metadata": {
      "needs_background": "light"
     },
     "output_type": "display_data"
    }
   ],
   "source": [
    "# Investigate the variance accounted for by each principal component.\n",
    "\n",
    "scree_plot(pca)"
   ]
  },
  {
   "cell_type": "code",
   "execution_count": 54,
   "metadata": {
    "pycharm": {
     "is_executing": false
    }
   },
   "outputs": [
    {
     "data": {
      "image/png": "[encoded data removed]",
      "text/plain": [
       "<matplotlib.figure.Figure at 0x7ff413842860>"
      ]
     },
     "metadata": {
      "needs_background": "light"
     },
     "output_type": "display_data"
    }
   ],
   "source": [
    "# Re-apply PCA to the data while selecting for number of components to retain.\n",
    "\n",
    "pca = PCA(n_components=90)\n",
    "azdias_pca = pca.fit_transform(azdias_subset_scaled)\n",
    "scree_plot(pca)"
   ]
  },
  {
   "cell_type": "markdown",
   "metadata": {},
   "source": [
    "### Discussion 2.2: Perform Dimensionality Reduction\n",
    "\n",
    "(Double-click this cell and replace this text with your own text, reporting your findings and decisions regarding dimensionality reduction. How many principal components / transformed features are you retaining for the next step of the analysis?)\n",
    "\n",
    "- It can be seen that around 90 principal components are enough to account for 80% of variance. Therefore, 90 have been retained."
   ]
  },
  {
   "cell_type": "markdown",
   "metadata": {},
   "source": [
    "### Step 2.3: Interpret Principal Components\n",
    "\n",
    "Now that we have our transformed principal components, it's a nice idea to check out the weight of each variable on the first few components to see if they can be interpreted in some fashion.\n",
    "\n",
    "As a reminder, each principal component is a unit vector that points in the direction of highest variance (after accounting for the variance captured by earlier principal components). The further a weight is from zero, the more the principal component is in the direction of the corresponding feature. If two features have large weights of the same sign (both positive or both negative), then increases in one tend expect to be associated with increases in the other. To contrast, features with different signs can be expected to show a negative correlation: increases in one variable should result in a decrease in the other.\n",
    "\n",
    "- To investigate the features, you should map each weight to their corresponding feature name, then sort the features according to weight. The most interesting features for each principal component, then, will be those at the beginning and end of the sorted list. Use the data dictionary document to help you understand these most prominent features, their relationships, and what a positive or negative value on the principal component might indicate.\n",
    "- You should investigate and interpret feature associations from the first three principal components in this substep. To help facilitate this, you should write a function that you can call at any time to print the sorted list of feature weights, for the *i*-th principal component. This might come in handy in the next step of the project, when you interpret the tendencies of the discovered clusters."
   ]
  },
  {
   "cell_type": "code",
   "execution_count": 55,
   "metadata": {},
   "outputs": [],
   "source": [
    "def plot_pca_weighted_features(df, pca, n_features, component_num):\n",
    "    features = pd.DataFrame(np.round(pca.components_, 4), columns=df.keys()).iloc[component_num - 1]\n",
    "    features.sort_values(ascending=False, inplace=True)\n",
    "    features = pd.concat([features.head(n_features), features.tail(n_features)])    \n",
    "    features.plot(kind='bar', title='Principal Component ' + str(component_num))\n",
    "    ax = plt.gca()\n",
    "    ax.grid(linewidth='0.5', alpha=0.3)\n",
    "    ax.set_axisbelow(True)\n",
    "    plt.show()\n",
    "    print(features)"
   ]
  },
  {
   "cell_type": "code",
   "execution_count": 56,
   "metadata": {
    "pycharm": {
     "is_executing": false
    }
   },
   "outputs": [
    {
     "data": {
      "image/png": "[encoded data removed]",
      "text/plain": [
       "<matplotlib.figure.Figure at 0x7ff413b16f60>"
      ]
     },
     "metadata": {
      "needs_background": "light"
     },
     "output_type": "display_data"
    },
    {
     "name": "stdout",
     "output_type": "stream",
     "text": [
      "LP_STATUS_GROB_1.0        0.1967\n",
      "HH_EINKOMMEN_SCORE        0.1869\n",
      "CAMEO_INTL_2015_WEALTH    0.1867\n",
      "PLZ8_ANTG3                0.1825\n",
      "PLZ8_ANTG4                0.1766\n",
      "KBA05_GBZ                -0.1823\n",
      "PLZ8_ANTG1               -0.1832\n",
      "FINANZ_MINIMALIST        -0.1922\n",
      "KBA05_ANTG1              -0.1923\n",
      "MOBI_REGIO               -0.2052\n",
      "Name: 0, dtype: float64\n"
     ]
    }
   ],
   "source": [
    "# Map weights for the first principal component to corresponding feature names\n",
    "# and then print the linked values, sorted by weight.\n",
    "# HINT: Try defining a function here or in a new cell that you can reuse in the\n",
    "# other cells.\n",
    "\n",
    "plot_pca_weighted_features(azdias_subset, pca, n_features=5, component_num=1)"
   ]
  },
  {
   "cell_type": "markdown",
   "metadata": {},
   "source": [
    "**Interpretation:**\n",
    "\n",
    "This principal component seems to have:\n",
    "\n",
    "- highly positive correlation with some social status, net income, wealth.\n",
    "- highly negative correlation with movement pattern, some financial features."
   ]
  },
  {
   "cell_type": "code",
   "execution_count": 57,
   "metadata": {
    "pycharm": {
     "is_executing": false
    }
   },
   "outputs": [
    {
     "data": {
      "image/png": "[encoded data removed]",
      "text/plain": [
       "<matplotlib.figure.Figure at 0x7ff40d5ed0b8>"
      ]
     },
     "metadata": {
      "needs_background": "light"
     },
     "output_type": "display_data"
    },
    {
     "name": "stdout",
     "output_type": "stream",
     "text": [
      "ALTERSKATEGORIE_GROB            0.2330\n",
      "FINANZ_VORSORGER                0.2190\n",
      "ZABEOTYP_3                      0.2002\n",
      "SEMIO_ERL                       0.1801\n",
      "SEMIO_LUST                      0.1638\n",
      "SEMIO_TRADV                    -0.2081\n",
      "SEMIO_REL                      -0.2139\n",
      "FINANZ_UNAUFFAELLIGER          -0.2155\n",
      "FINANZ_SPARER                  -0.2267\n",
      "PRAEGENDE_JUGENDJAHRE_DECADE   -0.2379\n",
      "Name: 1, dtype: float64\n"
     ]
    }
   ],
   "source": [
    "# Map weights for the second principal component to corresponding feature names\n",
    "# and then print the linked values, sorted by weight.\n",
    "\n",
    "plot_pca_weighted_features(azdias_subset, pca, n_features=5, component_num=2)"
   ]
  },
  {
   "cell_type": "markdown",
   "metadata": {},
   "source": [
    "**Interpretation:**\n",
    "\n",
    "This principal component seems to have:\n",
    "- highly positive correlation with estimated age, energy consumption, and return type.\n",
    "- highly negative correlation with the decade of youth, some personality and financial characteristics"
   ]
  },
  {
   "cell_type": "code",
   "execution_count": 58,
   "metadata": {
    "pycharm": {
     "is_executing": false
    }
   },
   "outputs": [
    {
     "data": {
      "image/png": "[encoded data removed]",
      "text/plain": [
       "<matplotlib.figure.Figure at 0x7ff4138da710>"
      ]
     },
     "metadata": {
      "needs_background": "light"
     },
     "output_type": "display_data"
    },
    {
     "name": "stdout",
     "output_type": "stream",
     "text": [
      "SEMIO_VERT     0.3191\n",
      "SEMIO_FAM      0.2610\n",
      "SEMIO_SOZ      0.2572\n",
      "SEMIO_KULT     0.2519\n",
      "FINANZTYP_5    0.1347\n",
      "SEMIO_ERL     -0.2083\n",
      "SEMIO_KRIT    -0.2672\n",
      "SEMIO_DOM     -0.2843\n",
      "SEMIO_KAEM    -0.3157\n",
      "ANREDE_KZ     -0.3455\n",
      "Name: 2, dtype: float64\n"
     ]
    }
   ],
   "source": [
    "# Map weights for the third principal component to corresponding feature names\n",
    "# and then print the linked values, sorted by weight.\n",
    "\n",
    "plot_pca_weighted_features(azdias_subset, pca, n_features=5, component_num=3)"
   ]
  },
  {
   "cell_type": "markdown",
   "metadata": {},
   "source": [
    "**Interpretation:**\n",
    "\n",
    "This principal component seems to have:\n",
    "\n",
    "- highly positive correlation with some personality features.\n",
    "- highly negative correlation with gender and some other personality features.\n",
    "\n",
    "(No exact interpretation for these personality features in Data_Dictionary.md)"
   ]
  },
  {
   "cell_type": "markdown",
   "metadata": {},
   "source": [
    "### Discussion 2.3: Interpret Principal Components\n",
    "\n",
    "(Double-click this cell and replace this text with your own text, reporting your observations from detailed investigation of the first few principal components generated. Can we interpret positive and negative values from them in a meaningful way?)\n",
    "\n",
    "**Interpretation has been provided below each component's chart above**"
   ]
  },
  {
   "cell_type": "markdown",
   "metadata": {},
   "source": [
    "## Step 3: Clustering\n",
    "\n",
    "### Step 3.1: Apply Clustering to General Population\n",
    "\n",
    "You've assessed and cleaned the demographics data, then scaled and transformed them. Now, it's time to see how the data clusters in the principal components space. In this substep, you will apply k-means clustering to the dataset and use the average within-cluster distances from each point to their assigned cluster's centroid to decide on a number of clusters to keep.\n",
    "\n",
    "- Use sklearn's [KMeans](http://scikit-learn.org/stable/modules/generated/sklearn.cluster.KMeans.html#sklearn.cluster.KMeans) class to perform k-means clustering on the PCA-transformed data.\n",
    "- Then, compute the average difference from each point to its assigned cluster's center. **Hint**: The KMeans object's `.score()` method might be useful here, but note that in sklearn, scores tend to be defined so that larger is better. Try applying it to a small, toy dataset, or use an internet search to help your understanding.\n",
    "- Perform the above two steps for a number of different cluster counts. You can then see how the average distance decreases with an increasing number of clusters. However, each additional cluster provides a smaller net benefit. Use this fact to select a final number of clusters in which to group the data. **Warning**: because of the large size of the dataset, it can take a long time for the algorithm to resolve. The more clusters to fit, the longer the algorithm will take. You should test for cluster counts through at least 10 clusters to get the full picture, but you shouldn't need to test for a number of clusters above about 30.\n",
    "- Once you've selected a final number of clusters to use, re-fit a KMeans instance to perform the clustering operation. Make sure that you also obtain the cluster assignments for the general demographics data, since you'll be using them in the final Step 3.3."
   ]
  },
  {
   "cell_type": "code",
   "execution_count": 59,
   "metadata": {
    "pycharm": {
     "is_executing": false
    }
   },
   "outputs": [
    {
     "name": "stdout",
     "output_type": "stream",
     "text": [
      "Number of clusters: 10 - SSE: 100809895.960824\n",
      "Number of clusters: 12 - SSE: 99285017.60447855\n",
      "Number of clusters: 14 - SSE: 97705472.59791408\n",
      "Number of clusters: 16 - SSE: 96662669.4529161\n",
      "Number of clusters: 18 - SSE: 95266132.33675167\n",
      "Number of clusters: 20 - SSE: 94176657.04572292\n",
      "Number of clusters: 22 - SSE: 93173230.88077414\n",
      "Number of clusters: 24 - SSE: 92189014.30767855\n",
      "Number of clusters: 26 - SSE: 91493261.78607711\n",
      "Number of clusters: 28 - SSE: 90245749.81243487\n",
      "Number of clusters: 30 - SSE: 89069576.97009048\n"
     ]
    }
   ],
   "source": [
    "# Over a number of different cluster counts...\n",
    "\n",
    "n_clusters_range = list(range(10,31,2))\n",
    "sse = []\n",
    "\n",
    "for k in n_clusters_range:\n",
    "    # run k-means clustering on the data\n",
    "    kmeans = KMeans(n_clusters=k, random_state=368, n_jobs=-1)\n",
    "    model = kmeans.fit(azdias_pca)\n",
    "    # compute the average within-cluster distances.\n",
    "    score = np.abs(model.score(azdias_pca))\n",
    "    sse.append(score)\n",
    "    print('Number of clusters: {} - SSE: {}'.format(k, score))"
   ]
  },
  {
   "cell_type": "code",
   "execution_count": 60,
   "metadata": {
    "pycharm": {
     "is_executing": false
    }
   },
   "outputs": [
    {
     "data": {
      "image/png": "[encoded data removed]",
      "text/plain": [
       "<matplotlib.figure.Figure at 0x7ff40d5534a8>"
      ]
     },
     "metadata": {
      "needs_background": "light"
     },
     "output_type": "display_data"
    }
   ],
   "source": [
    "# Investigate the change in within-cluster distance across number of clusters.\n",
    "# HINT: Use matplotlib's plot function to visualize this relationship.\n",
    "plt.plot(n_clusters_range, sse, marker='o', color='g');\n",
    "plt.xlabel('Number of clusters');\n",
    "plt.ylabel('Sum of Squared Errors');"
   ]
  },
  {
   "cell_type": "code",
   "execution_count": 61,
   "metadata": {
    "pycharm": {
     "is_executing": false
    }
   },
   "outputs": [
    {
     "name": "stdout",
     "output_type": "stream",
     "text": [
      "91711838.4315\n"
     ]
    }
   ],
   "source": [
    "# Re-fit the k-means model with the selected number of clusters and obtain\n",
    "# cluster predictions for the general population demographics data.\n",
    "k = 24\n",
    "kmeans = KMeans(n_clusters=k, random_state=368, n_jobs=-1)\n",
    "model = kmeans.fit(azdias_pca)\n",
    "score = np.abs(model.score(azdias_pca))\n",
    "print(score)\n",
    "population_predict = model.predict(azdias_pca)"
   ]
  },
  {
   "cell_type": "markdown",
   "metadata": {},
   "source": [
    "### Discussion 3.1: Apply Clustering to General Population\n",
    "\n",
    "(Double-click this cell and replace this text with your own text, reporting your findings and decisions regarding clustering. Into how many clusters have you decided to segment the population?)\n",
    "\n",
    "- A range of 'k' has been tried to cluster the data set: 10, 12, 14, ... 26, 28, 30.\n",
    "- k = 24 seems to be a reasonable value as per the chart above, considering the amount of error and time consumed to train the model."
   ]
  },
  {
   "cell_type": "markdown",
   "metadata": {},
   "source": [
    "### Step 3.2: Apply All Steps to the Customer Data\n",
    "\n",
    "Now that you have clusters and cluster centers for the general population, it's time to see how the customer data maps on to those clusters. Take care to not confuse this for re-fitting all of the models to the customer data. Instead, you're going to use the fits from the general population to clean, transform, and cluster the customer data. In the last step of the project, you will interpret how the general population fits apply to the customer data.\n",
    "\n",
    "- Don't forget when loading in the customers data, that it is semicolon (`;`) delimited.\n",
    "- Apply the same feature wrangling, selection, and engineering steps to the customer demographics using the `clean_data()` function you created earlier. (You can assume that the customer demographics data has similar meaning behind missing data patterns as the general demographics data.)\n",
    "- Use the sklearn objects from the general demographics data, and apply their transformations to the customers data. That is, you should not be using a `.fit()` or `.fit_transform()` method to re-fit the old objects, nor should you be creating new sklearn objects! Carry the data through the feature scaling, PCA, and clustering steps, obtaining cluster assignments for all of the data in the customer demographics data."
   ]
  },
  {
   "cell_type": "code",
   "execution_count": 92,
   "metadata": {
    "pycharm": {
     "is_executing": false
    }
   },
   "outputs": [
    {
     "name": "stdout",
     "output_type": "stream",
     "text": [
      "(191652, 85)\n"
     ]
    }
   ],
   "source": [
    "# Load in the customer demographics data.\n",
    "customers = pd.read_csv('Udacity_CUSTOMERS_Subset.csv', sep=';')\n",
    "feat_info = pd.read_csv('AZDIAS_Feature_Summary.csv', sep=';')\n",
    "print(customers.shape)"
   ]
  },
  {
   "cell_type": "code",
   "execution_count": 63,
   "metadata": {
    "pycharm": {
     "is_executing": false
    }
   },
   "outputs": [],
   "source": [
    "# Apply preprocessing, feature transformation, and clustering from the general\n",
    "# demographics onto the customer data, obtaining cluster predictions for the\n",
    "# customer demographics data."
   ]
  },
  {
   "cell_type": "code",
   "execution_count": 93,
   "metadata": {},
   "outputs": [
    {
     "name": "stderr",
     "output_type": "stream",
     "text": [
      "/opt/conda/lib/python3.6/site-packages/pandas/core/generic.py:5890: SettingWithCopyWarning: \n",
      "A value is trying to be set on a copy of a slice from a DataFrame\n",
      "\n",
      "See the caveats in the documentation: http://pandas.pydata.org/pandas-docs/stable/indexing.html#indexing-view-versus-copy\n",
      "  self._update_inplace(new_data)\n"
     ]
    },
    {
     "name": "stdout",
     "output_type": "stream",
     "text": [
      "(141590, 191)\n"
     ]
    }
   ],
   "source": [
    "customers, customers_missing_above_threshold = clean_data(customers, feat_info, features_to_drop, 20, decade_map, movement_map)\n",
    "print(customers.shape)"
   ]
  },
  {
   "cell_type": "code",
   "execution_count": 94,
   "metadata": {},
   "outputs": [
    {
     "data": {
      "text/plain": [
       "['GEBAEUDETYP_5.0']"
      ]
     },
     "execution_count": 94,
     "metadata": {},
     "output_type": "execute_result"
    }
   ],
   "source": [
    "# Compare to see if customers has the same features as the population (azdias_subset)\n",
    "list(set(azdias_subset.columns) - set(customers))"
   ]
  },
  {
   "cell_type": "code",
   "execution_count": 95,
   "metadata": {},
   "outputs": [
    {
     "name": "stderr",
     "output_type": "stream",
     "text": [
      "/opt/conda/lib/python3.6/site-packages/pandas/core/generic.py:5890: SettingWithCopyWarning: \n",
      "A value is trying to be set on a copy of a slice from a DataFrame\n",
      "\n",
      "See the caveats in the documentation: http://pandas.pydata.org/pandas-docs/stable/indexing.html#indexing-view-versus-copy\n",
      "  self._update_inplace(new_data)\n"
     ]
    },
    {
     "name": "stdout",
     "output_type": "stream",
     "text": [
      "(141590, 192)\n"
     ]
    }
   ],
   "source": [
    "# Since customers is missing feature GEBAEUDETYP_5.0, reload the data\n",
    "# Add that column with all cells having same value of 0\n",
    "# Then clean the data again\n",
    "\n",
    "customers = pd.read_csv('Udacity_CUSTOMERS_Subset.csv', sep=';')\n",
    "feat_info = pd.read_csv('AZDIAS_Feature_Summary.csv', sep=';')\n",
    "\n",
    "customers['GEBAEUDETYP_5.0'] = 0\n",
    "\n",
    "customers, customers_missing_above_threshold = clean_data(customers, feat_info, features_to_drop, missing_count_threshold_for_rows, decade_map, movement_map)\n",
    "print(customers.shape)"
   ]
  },
  {
   "cell_type": "code",
   "execution_count": 96,
   "metadata": {
    "pycharm": {
     "is_executing": false
    }
   },
   "outputs": [],
   "source": [
    "imputer = Imputer()\n",
    "customers = pd.DataFrame(imputer.fit_transform(customers), columns=customers.columns)"
   ]
  },
  {
   "cell_type": "code",
   "execution_count": 97,
   "metadata": {},
   "outputs": [
    {
     "data": {
      "text/plain": [
       "array([[ 1.18497057, -1.04370935,  1.40920155, ...,  1.87466549,\n",
       "        -1.55065625,  0.08590573],\n",
       "       [ 1.18497057,  0.95812115,  1.40920155, ...,  1.87466549,\n",
       "        -0.17998036,  0.76184899],\n",
       "       [ 1.18497057, -1.04370935,  1.40920155, ..., -0.55308218,\n",
       "        -0.8653183 ,  0.76184899],\n",
       "       ..., \n",
       "       [ 1.18497057, -1.04370935,  1.40920155, ...,  1.87466549,\n",
       "        -0.8653183 ,  0.76184899],\n",
       "       [ 0.20144832,  0.95812115, -0.76854718, ..., -0.55308218,\n",
       "        -0.8653183 ,  0.76184899],\n",
       "       [-0.78207394, -1.04370935,  1.40920155, ..., -0.55308218,\n",
       "        -0.17998036,  0.08590573]])"
      ]
     },
     "execution_count": 97,
     "metadata": {},
     "output_type": "execute_result"
    }
   ],
   "source": [
    "customers_scaled = scaler.transform(customers)\n",
    "customers_scaled"
   ]
  },
  {
   "cell_type": "code",
   "execution_count": 98,
   "metadata": {},
   "outputs": [],
   "source": [
    "customers_pca = pca.transform(customers_scaled)"
   ]
  },
  {
   "cell_type": "code",
   "execution_count": 99,
   "metadata": {},
   "outputs": [],
   "source": [
    "customers_predict = model.predict(customers_pca)"
   ]
  },
  {
   "cell_type": "markdown",
   "metadata": {},
   "source": [
    "### Step 3.3: Compare Customer Data to Demographics Data\n",
    "\n",
    "At this point, you have clustered data based on demographics of the general population of Germany, and seen how the customer data for a mail-order sales company maps onto those demographic clusters. In this final substep, you will compare the two cluster distributions to see where the strongest customer base for the company is.\n",
    "\n",
    "Consider the proportion of persons in each cluster for the general population, and the proportions for the customers. If we think the company's customer base to be universal, then the cluster assignment proportions should be fairly similar between the two. If there are only particular segments of the population that are interested in the company's products, then we should see a mismatch from one to the other. If there is a higher proportion of persons in a cluster for the customer data compared to the general population (e.g. 5% of persons are assigned to a cluster for the general population, but 15% of the customer data is closest to that cluster's centroid) then that suggests the people in that cluster to be a target audience for the company. On the other hand, the proportion of the data in a cluster being larger in the general population than the customer data (e.g. only 2% of customers closest to a population centroid that captures 6% of the data) suggests that group of persons to be outside of the target demographics.\n",
    "\n",
    "Take a look at the following points in this step:\n",
    "\n",
    "- Compute the proportion of data points in each cluster for the general population and the customer data. Visualizations will be useful here: both for the individual dataset proportions, but also to visualize the ratios in cluster representation between groups. Seaborn's [`countplot()`](https://seaborn.pydata.org/generated/seaborn.countplot.html) or [`barplot()`](https://seaborn.pydata.org/generated/seaborn.barplot.html) function could be handy.\n",
    "  - Recall the analysis you performed in step 1.1.3 of the project, where you separated out certain data points from the dataset if they had more than a specified threshold of missing values. If you found that this group was qualitatively different from the main bulk of the data, you should treat this as an additional data cluster in this analysis. Make sure that you account for the number of data points in this subset, for both the general population and customer datasets, when making your computations!\n",
    "- Which cluster or clusters are overrepresented in the customer dataset compared to the general population? Select at least one such cluster and infer what kind of people might be represented by that cluster. Use the principal component interpretations from step 2.3 or look at additional components to help you make this inference. Alternatively, you can use the `.inverse_transform()` method of the PCA and StandardScaler objects to transform centroids back to the original data space and interpret the retrieved values directly.\n",
    "- Perform a similar investigation for the underrepresented clusters. Which cluster or clusters are underrepresented in the customer dataset compared to the general population, and what kinds of people are typified by these clusters?"
   ]
  },
  {
   "cell_type": "code",
   "execution_count": 115,
   "metadata": {
    "pycharm": {
     "is_executing": false
    }
   },
   "outputs": [
    {
     "name": "stdout",
     "output_type": "stream",
     "text": [
      "1\n",
      "26\n"
     ]
    },
    {
     "data": {
      "image/png": "[encoded data removed]",
      "text/plain": [
       "<matplotlib.figure.Figure at 0x7ff40d288780>"
      ]
     },
     "metadata": {
      "needs_background": "light"
     },
     "output_type": "display_data"
    },
    {
     "name": "stdout",
     "output_type": "stream",
     "text": [
      "Cluster -1 is the rows with missing values above threshold\n"
     ]
    }
   ],
   "source": [
    "# Compare the proportion of data in each cluster for the customer data to the\n",
    "# proportion of data in each cluster for the general population.\n",
    "\n",
    "p_pop = []\n",
    "p_cust = []\n",
    "cluster_num = []\n",
    "\n",
    "total_len_population = len(population_predict) + len(azdias_missing_above_threshold)\n",
    "total_len_customers = len(customers_predict) + len(customers_missing_above_threshold)\n",
    "\n",
    "missing_above_threshold_index = -1\n",
    "cluster_num.append(missing_above_threshold_index)\n",
    "\n",
    "p_pop.append(len(azdias_missing_above_threshold) / total_len_population)\n",
    "p_cust.append(len(customers_missing_above_threshold) / total_len_customers)\n",
    "\n",
    "print(len(p_pop))\n",
    "\n",
    "for i in range(k):\n",
    "    cluster_num.append(i + 1)\n",
    "    p_pop.append((population_predict == i).sum() / total_len_population)\n",
    "    p_cust.append((customers_predict == i).sum() / total_len_customers)\n",
    "\n",
    "print(len(p_pop))\n",
    "\n",
    "df_general = pd.DataFrame({'Cluster' : cluster_num, 'Population': p_pop, 'Customers': p_cust})\n",
    "\n",
    "df_general.plot(x='Cluster', y=['Population', 'Customers'], kind='bar', figsize=(9, 6))\n",
    "plt.ylabel('Proportion')\n",
    "plt.show()\n",
    "print('Cluster {} is the rows with missing values above threshold'.format(missing_above_threshold_index))"
   ]
  },
  {
   "cell_type": "code",
   "execution_count": 116,
   "metadata": {},
   "outputs": [],
   "source": [
    "def plot_cluster_features(k, df, predict, pca, scaler, original_df):\n",
    "    print('Cluster: ', k)\n",
    "    \n",
    "    pca_cluster = df[predict == k - 1]\n",
    "    \n",
    "    features_scaled = pca.inverse_transform(pca_cluster)\n",
    "    features_origin = scaler.inverse_transform(features_scaled)\n",
    "    features_origin = pd.DataFrame(np.round(features_origin), columns=original_df.columns)\n",
    "\n",
    "    fig, axs = plt.subplots(2,2, figsize=(18,8))\n",
    "    sns.countplot(features_origin['HH_EINKOMMEN_SCORE'], ax = axs[0,0])\n",
    "    sns.countplot(features_origin['CAMEO_INTL_2015_WEALTH'], ax = axs[0,1])\n",
    "    sns.countplot(features_origin['ALTERSKATEGORIE_GROB'], ax = axs[1,0])\n",
    "    sns.countplot(features_origin['MOBI_REGIO'], ax = axs[1,1])\n",
    "    plt.show();"
   ]
  },
  {
   "cell_type": "code",
   "execution_count": 117,
   "metadata": {
    "pycharm": {
     "is_executing": false
    }
   },
   "outputs": [
    {
     "name": "stdout",
     "output_type": "stream",
     "text": [
      "Cluster:  1\n"
     ]
    },
    {
     "data": {
      "image/png": "[encoded data removed]",
      "text/plain": [
       "<matplotlib.figure.Figure at 0x7ff4138daef0>"
      ]
     },
     "metadata": {
      "needs_background": "light"
     },
     "output_type": "display_data"
    }
   ],
   "source": [
    "# What kinds of people are part of a cluster that is overrepresented in the\n",
    "# customer data compared to the general population?\n",
    "\n",
    "plot_cluster_features(1, customers_pca, customers_predict, pca, scaler, azdias_subset)"
   ]
  },
  {
   "cell_type": "code",
   "execution_count": 119,
   "metadata": {
    "pycharm": {
     "is_executing": false
    }
   },
   "outputs": [
    {
     "name": "stdout",
     "output_type": "stream",
     "text": [
      "Cluster:  17\n"
     ]
    },
    {
     "data": {
      "image/png": "[encoded data removed]",
      "text/plain": [
       "<matplotlib.figure.Figure at 0x7ff41392f2b0>"
      ]
     },
     "metadata": {
      "needs_background": "light"
     },
     "output_type": "display_data"
    }
   ],
   "source": [
    "# What kinds of people are part of a cluster that is underrepresented in the\n",
    "# customer data compared to the general population?\n",
    "\n",
    "plot_cluster_features(17, customers_pca, customers_predict, pca, scaler, azdias_subset)"
   ]
  },
  {
   "cell_type": "markdown",
   "metadata": {},
   "source": [
    "### Discussion 3.3: Compare Customer Data to Demographics Data\n",
    "\n",
    "(Double-click this cell and replace this text with your own text, reporting findings and conclusions from the clustering analysis. Can we describe segments of the population that are relatively popular with the mail-order company, or relatively unpopular with the company?)\n",
    "\n",
    "To infer the types of peple over/under-represented in the customer clusters, 3 features which are highly correlated in the PCA above were chosen: HH_EINKOMMEN_SCORE, CAMEO_INTL_2015_WEALTH, ALTERSKATEGORIE_GROB and MOBI_REGIO.\n",
    "\n",
    "Typical over-represented (popular): \n",
    "- Cluster: 1\n",
    "- Types of people: very high/high income, prosperous, more than 60 years old and low movememt pattern.\n",
    "\n",
    "Typical under-represented (unpopular): \n",
    "- Cluster: 17\n",
    "- Types of people: low/average income, poorer, middle age (30 - 45 years old) and high movement pattern."
   ]
  },
  {
   "cell_type": "markdown",
   "metadata": {},
   "source": [
    "> Congratulations on making it this far in the project! Before you finish, make sure to check through the entire notebook from top to bottom to make sure that your analysis follows a logical flow and all of your findings are documented in **Discussion** cells. Once you've checked over all of your work, you should export the notebook as an HTML document to submit for evaluation. You can do this from the menu, navigating to **File -> Download as -> HTML (.html)**. You will submit both that document and this notebook for your project submission."
   ]
  },
  {
   "cell_type": "markdown",
   "metadata": {
    "pycharm": {
     "is_executing": false
    }
   },
   "source": [
    "References:\n",
    "\n",
    "https://towardsdatascience.com/customer-segmentation-report-for-arvato-financial-solutions-b08a01ac7bc0https://ksatola.github.io\n",
    "\n",
    "https://github.com/MiguelAMartinez\n",
    "\n",
    "https://katba-caroline.com\n",
    "\n",
    "https://jkarakas.github.io"
   ]
  }
 ],
 "metadata": {
  "kernelspec": {
   "display_name": "Python 3",
   "language": "python",
   "name": "python3"
  },
  "language_info": {
   "codemirror_mode": {
    "name": "ipython",
    "version": 3
   },
   "file_extension": ".py",
   "mimetype": "text/x-python",
   "name": "python",
   "nbconvert_exporter": "python",
   "pygments_lexer": "ipython3",
   "version": "3.6.3"
  },
  "pycharm": {
   "stem_cell": {
    "cell_type": "raw",
    "metadata": {
     "collapsed": false
    },
    "source": []
   }
  }
 },
 "nbformat": 4,
 "nbformat_minor": 2
}
